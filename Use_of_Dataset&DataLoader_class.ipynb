{
  "nbformat": 4,
  "nbformat_minor": 0,
  "metadata": {
    "colab": {
      "provenance": []
    },
    "kernelspec": {
      "name": "python3",
      "display_name": "Python 3"
    },
    "language_info": {
      "name": "python"
    }
  },
  "cells": [
    {
      "cell_type": "code",
      "execution_count": null,
      "metadata": {
        "id": "FbnPxW4a3w16"
      },
      "outputs": [],
      "source": [
        "from sklearn.datasets import make_classification\n",
        "import torch"
      ]
    },
    {
      "cell_type": "code",
      "source": [
        "## Create a synthetic classification dataset using sklearn\n",
        "X,y = make_classification(\n",
        "    n_samples=10,\n",
        "    n_features=2,\n",
        "    n_informative=2,\n",
        "    n_redundant=0,\n",
        "    n_classes=2,\n",
        "    random_state=42\n",
        ")"
      ],
      "metadata": {
        "id": "Nrzw25W14L0a"
      },
      "execution_count": null,
      "outputs": []
    },
    {
      "cell_type": "code",
      "source": [
        "X"
      ],
      "metadata": {
        "colab": {
          "base_uri": "https://localhost:8080/"
        },
        "id": "8cPt67WJ4vgC",
        "outputId": "c55a3572-7208-4263-b2f6-a24ddaa13eff"
      },
      "execution_count": null,
      "outputs": [
        {
          "output_type": "execute_result",
          "data": {
            "text/plain": [
              "array([[ 1.06833894, -0.97007347],\n",
              "       [-1.14021544, -0.83879234],\n",
              "       [-2.8953973 ,  1.97686236],\n",
              "       [-0.72063436, -0.96059253],\n",
              "       [-1.96287438, -0.99225135],\n",
              "       [-0.9382051 , -0.54304815],\n",
              "       [ 1.72725924, -1.18582677],\n",
              "       [ 1.77736657,  1.51157598],\n",
              "       [ 1.89969252,  0.83444483],\n",
              "       [-0.58723065, -1.97171753]])"
            ]
          },
          "metadata": {},
          "execution_count": 3
        }
      ]
    },
    {
      "cell_type": "code",
      "source": [
        "y"
      ],
      "metadata": {
        "colab": {
          "base_uri": "https://localhost:8080/"
        },
        "id": "auvJSTOy4wuS",
        "outputId": "05e67e5a-2a11-488f-c125-087c9fac2761"
      },
      "execution_count": null,
      "outputs": [
        {
          "output_type": "execute_result",
          "data": {
            "text/plain": [
              "array([1, 0, 0, 0, 0, 1, 1, 1, 1, 0])"
            ]
          },
          "metadata": {},
          "execution_count": 4
        }
      ]
    },
    {
      "cell_type": "code",
      "source": [
        "X.shape,y.shape"
      ],
      "metadata": {
        "colab": {
          "base_uri": "https://localhost:8080/"
        },
        "id": "33I_7C5L4xdw",
        "outputId": "0bdf6841-8cd3-4371-b3e2-6c4a94eb0487"
      },
      "execution_count": null,
      "outputs": [
        {
          "output_type": "execute_result",
          "data": {
            "text/plain": [
              "((10, 2), (10,))"
            ]
          },
          "metadata": {},
          "execution_count": 5
        }
      ]
    },
    {
      "cell_type": "code",
      "source": [
        "# Convert the data to PyTorch tensors\n",
        "X_tensor = torch.tensor(X, dtype=torch.float32)\n",
        "y_tensor = torch.tensor(y, dtype=torch.long)"
      ],
      "metadata": {
        "id": "wa8SCqCG42Cy"
      },
      "execution_count": null,
      "outputs": []
    },
    {
      "cell_type": "code",
      "source": [
        "X_tensor"
      ],
      "metadata": {
        "colab": {
          "base_uri": "https://localhost:8080/"
        },
        "id": "-pBNqjht5Lzb",
        "outputId": "f1b4a275-565e-40f3-899c-a0e9b335f464"
      },
      "execution_count": null,
      "outputs": [
        {
          "output_type": "execute_result",
          "data": {
            "text/plain": [
              "tensor([[ 1.0683, -0.9701],\n",
              "        [-1.1402, -0.8388],\n",
              "        [-2.8954,  1.9769],\n",
              "        [-0.7206, -0.9606],\n",
              "        [-1.9629, -0.9923],\n",
              "        [-0.9382, -0.5430],\n",
              "        [ 1.7273, -1.1858],\n",
              "        [ 1.7774,  1.5116],\n",
              "        [ 1.8997,  0.8344],\n",
              "        [-0.5872, -1.9717]])"
            ]
          },
          "metadata": {},
          "execution_count": 7
        }
      ]
    },
    {
      "cell_type": "code",
      "source": [
        "y_tensor"
      ],
      "metadata": {
        "colab": {
          "base_uri": "https://localhost:8080/"
        },
        "id": "5GzYSRl45TiB",
        "outputId": "1d914cca-43cc-4700-a225-1735a0a5659c"
      },
      "execution_count": null,
      "outputs": [
        {
          "output_type": "execute_result",
          "data": {
            "text/plain": [
              "tensor([1, 0, 0, 0, 0, 1, 1, 1, 1, 0])"
            ]
          },
          "metadata": {},
          "execution_count": 8
        }
      ]
    },
    {
      "cell_type": "code",
      "source": [
        "from torch.utils.data import Dataset,DataLoader"
      ],
      "metadata": {
        "id": "-_Re98OP5W7Z"
      },
      "execution_count": null,
      "outputs": []
    },
    {
      "cell_type": "code",
      "source": [
        "class CustomDataset(Dataset):\n",
        "  def __init__(self,features,labels):\n",
        "\n",
        "      self.features = features\n",
        "      self.labels = labels\n",
        "\n",
        "\n",
        "  def __len__(self):\n",
        "\n",
        "      return self.features.shape[0]\n",
        "\n",
        "\n",
        "  def __getitem__(self,idx):\n",
        "\n",
        "      return self.features[idx],self.labels[idx]"
      ],
      "metadata": {
        "id": "yND2cGIl5q0u"
      },
      "execution_count": null,
      "outputs": []
    },
    {
      "cell_type": "code",
      "source": [
        "dataset = CustomDataset(X_tensor,y_tensor)"
      ],
      "metadata": {
        "id": "mlHB6SXe6wvE"
      },
      "execution_count": null,
      "outputs": []
    },
    {
      "cell_type": "code",
      "source": [
        "len(dataset)"
      ],
      "metadata": {
        "colab": {
          "base_uri": "https://localhost:8080/"
        },
        "id": "WSGLWnvq69ma",
        "outputId": "daf1d3e0-56de-4a00-eb67-addee4ab67c1"
      },
      "execution_count": null,
      "outputs": [
        {
          "output_type": "execute_result",
          "data": {
            "text/plain": [
              "10"
            ]
          },
          "metadata": {},
          "execution_count": 15
        }
      ]
    },
    {
      "cell_type": "code",
      "source": [
        "dataset[2]"
      ],
      "metadata": {
        "colab": {
          "base_uri": "https://localhost:8080/"
        },
        "id": "d4Vj_Xmb6_yH",
        "outputId": "8ba916c0-302b-4182-cfc0-a548bba0d245"
      },
      "execution_count": null,
      "outputs": [
        {
          "output_type": "execute_result",
          "data": {
            "text/plain": [
              "(tensor([-2.8954,  1.9769]), tensor(0))"
            ]
          },
          "metadata": {},
          "execution_count": 16
        }
      ]
    },
    {
      "cell_type": "code",
      "source": [
        "dataloader = DataLoader(dataset,batch_size=2,shuffle=True)"
      ],
      "metadata": {
        "id": "1iNAbHIs7Kl9"
      },
      "execution_count": null,
      "outputs": []
    },
    {
      "cell_type": "code",
      "source": [
        "for batch_features,batch_labels in dataloader:\n",
        "  print(batch_features,batch_labels)\n",
        "  print(\"--\"*50)"
      ],
      "metadata": {
        "colab": {
          "base_uri": "https://localhost:8080/"
        },
        "id": "YNAYisX97WkE",
        "outputId": "a7c3f418-78d3-4bae-f81b-2f134228fdda"
      },
      "execution_count": null,
      "outputs": [
        {
          "output_type": "stream",
          "name": "stdout",
          "text": [
            "tensor([[-0.7206, -0.9606],\n",
            "        [ 1.0683, -0.9701]]) tensor([0, 1])\n",
            "----------------------------------------------------------------------------------------------------\n",
            "tensor([[-0.5872, -1.9717],\n",
            "        [-1.9629, -0.9923]]) tensor([0, 0])\n",
            "----------------------------------------------------------------------------------------------------\n",
            "tensor([[ 1.7774,  1.5116],\n",
            "        [-0.9382, -0.5430]]) tensor([1, 1])\n",
            "----------------------------------------------------------------------------------------------------\n",
            "tensor([[ 1.7273, -1.1858],\n",
            "        [-1.1402, -0.8388]]) tensor([1, 0])\n",
            "----------------------------------------------------------------------------------------------------\n",
            "tensor([[ 1.8997,  0.8344],\n",
            "        [-2.8954,  1.9769]]) tensor([1, 0])\n",
            "----------------------------------------------------------------------------------------------------\n"
          ]
        }
      ]
    },
    {
      "cell_type": "code",
      "source": [],
      "metadata": {
        "id": "VgRvQcbz7rpQ"
      },
      "execution_count": null,
      "outputs": []
    }
  ]
}