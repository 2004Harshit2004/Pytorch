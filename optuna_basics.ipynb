{
  "cells": [
    {
      "cell_type": "code",
      "execution_count": null,
      "metadata": {
        "colab": {
          "base_uri": "https://localhost:8080/"
        },
        "id": "qOJsM26HnEh5",
        "outputId": "eb15301c-7ca0-4476-aef7-77543c37e633"
      },
      "outputs": [
        {
          "output_type": "stream",
          "name": "stdout",
          "text": [
            "Collecting optuna\n",
            "  Downloading optuna-4.4.0-py3-none-any.whl.metadata (17 kB)\n",
            "Collecting alembic>=1.5.0 (from optuna)\n",
            "  Downloading alembic-1.16.4-py3-none-any.whl.metadata (7.3 kB)\n",
            "Collecting colorlog (from optuna)\n",
            "  Downloading colorlog-6.9.0-py3-none-any.whl.metadata (10 kB)\n",
            "Requirement already satisfied: numpy in /usr/local/lib/python3.11/dist-packages (from optuna) (2.0.2)\n",
            "Requirement already satisfied: packaging>=20.0 in /usr/local/lib/python3.11/dist-packages (from optuna) (25.0)\n",
            "Requirement already satisfied: sqlalchemy>=1.4.2 in /usr/local/lib/python3.11/dist-packages (from optuna) (2.0.41)\n",
            "Requirement already satisfied: tqdm in /usr/local/lib/python3.11/dist-packages (from optuna) (4.67.1)\n",
            "Requirement already satisfied: PyYAML in /usr/local/lib/python3.11/dist-packages (from optuna) (6.0.2)\n",
            "Requirement already satisfied: Mako in /usr/lib/python3/dist-packages (from alembic>=1.5.0->optuna) (1.1.3)\n",
            "Requirement already satisfied: typing-extensions>=4.12 in /usr/local/lib/python3.11/dist-packages (from alembic>=1.5.0->optuna) (4.14.1)\n",
            "Requirement already satisfied: greenlet>=1 in /usr/local/lib/python3.11/dist-packages (from sqlalchemy>=1.4.2->optuna) (3.2.3)\n",
            "Downloading optuna-4.4.0-py3-none-any.whl (395 kB)\n",
            "\u001b[2K   \u001b[90m━━━━━━━━━━━━━━━━━━━━━━━━━━━━━━━━━━━━━━━━\u001b[0m \u001b[32m395.9/395.9 kB\u001b[0m \u001b[31m10.2 MB/s\u001b[0m eta \u001b[36m0:00:00\u001b[0m\n",
            "\u001b[?25hDownloading alembic-1.16.4-py3-none-any.whl (247 kB)\n",
            "\u001b[2K   \u001b[90m━━━━━━━━━━━━━━━━━━━━━━━━━━━━━━━━━━━━━━━━\u001b[0m \u001b[32m247.0/247.0 kB\u001b[0m \u001b[31m16.9 MB/s\u001b[0m eta \u001b[36m0:00:00\u001b[0m\n",
            "\u001b[?25hDownloading colorlog-6.9.0-py3-none-any.whl (11 kB)\n",
            "Installing collected packages: colorlog, alembic, optuna\n",
            "Successfully installed alembic-1.16.4 colorlog-6.9.0 optuna-4.4.0\n"
          ]
        }
      ],
      "source": [
        "!pip install optuna"
      ]
    },
    {
      "cell_type": "code",
      "execution_count": null,
      "metadata": {
        "colab": {
          "base_uri": "https://localhost:8080/",
          "height": 213
        },
        "id": "7goG_QUeqJIq",
        "outputId": "1fb9602d-17e4-45a5-9ca4-4f50c3f12f1c"
      },
      "outputs": [
        {
          "output_type": "execute_result",
          "data": {
            "text/plain": [
              "   Pregnancies  Glucose  BloodPressure  SkinThickness  Insulin   BMI  \\\n",
              "0            6      148             72             35        0  33.6   \n",
              "1            1       85             66             29        0  26.6   \n",
              "2            8      183             64              0        0  23.3   \n",
              "3            1       89             66             23       94  28.1   \n",
              "4            0      137             40             35      168  43.1   \n",
              "\n",
              "   DiabetesPedigreeFunction  Age  Outcome  \n",
              "0                     0.627   50        1  \n",
              "1                     0.351   31        0  \n",
              "2                     0.672   32        1  \n",
              "3                     0.167   21        0  \n",
              "4                     2.288   33        1  "
            ],
            "text/html": [
              "\n",
              "  <div id=\"df-bb06c979-24c3-4028-9642-0aee77f454e7\" class=\"colab-df-container\">\n",
              "    <div>\n",
              "<style scoped>\n",
              "    .dataframe tbody tr th:only-of-type {\n",
              "        vertical-align: middle;\n",
              "    }\n",
              "\n",
              "    .dataframe tbody tr th {\n",
              "        vertical-align: top;\n",
              "    }\n",
              "\n",
              "    .dataframe thead th {\n",
              "        text-align: right;\n",
              "    }\n",
              "</style>\n",
              "<table border=\"1\" class=\"dataframe\">\n",
              "  <thead>\n",
              "    <tr style=\"text-align: right;\">\n",
              "      <th></th>\n",
              "      <th>Pregnancies</th>\n",
              "      <th>Glucose</th>\n",
              "      <th>BloodPressure</th>\n",
              "      <th>SkinThickness</th>\n",
              "      <th>Insulin</th>\n",
              "      <th>BMI</th>\n",
              "      <th>DiabetesPedigreeFunction</th>\n",
              "      <th>Age</th>\n",
              "      <th>Outcome</th>\n",
              "    </tr>\n",
              "  </thead>\n",
              "  <tbody>\n",
              "    <tr>\n",
              "      <th>0</th>\n",
              "      <td>6</td>\n",
              "      <td>148</td>\n",
              "      <td>72</td>\n",
              "      <td>35</td>\n",
              "      <td>0</td>\n",
              "      <td>33.6</td>\n",
              "      <td>0.627</td>\n",
              "      <td>50</td>\n",
              "      <td>1</td>\n",
              "    </tr>\n",
              "    <tr>\n",
              "      <th>1</th>\n",
              "      <td>1</td>\n",
              "      <td>85</td>\n",
              "      <td>66</td>\n",
              "      <td>29</td>\n",
              "      <td>0</td>\n",
              "      <td>26.6</td>\n",
              "      <td>0.351</td>\n",
              "      <td>31</td>\n",
              "      <td>0</td>\n",
              "    </tr>\n",
              "    <tr>\n",
              "      <th>2</th>\n",
              "      <td>8</td>\n",
              "      <td>183</td>\n",
              "      <td>64</td>\n",
              "      <td>0</td>\n",
              "      <td>0</td>\n",
              "      <td>23.3</td>\n",
              "      <td>0.672</td>\n",
              "      <td>32</td>\n",
              "      <td>1</td>\n",
              "    </tr>\n",
              "    <tr>\n",
              "      <th>3</th>\n",
              "      <td>1</td>\n",
              "      <td>89</td>\n",
              "      <td>66</td>\n",
              "      <td>23</td>\n",
              "      <td>94</td>\n",
              "      <td>28.1</td>\n",
              "      <td>0.167</td>\n",
              "      <td>21</td>\n",
              "      <td>0</td>\n",
              "    </tr>\n",
              "    <tr>\n",
              "      <th>4</th>\n",
              "      <td>0</td>\n",
              "      <td>137</td>\n",
              "      <td>40</td>\n",
              "      <td>35</td>\n",
              "      <td>168</td>\n",
              "      <td>43.1</td>\n",
              "      <td>2.288</td>\n",
              "      <td>33</td>\n",
              "      <td>1</td>\n",
              "    </tr>\n",
              "  </tbody>\n",
              "</table>\n",
              "</div>\n",
              "    <div class=\"colab-df-buttons\">\n",
              "\n",
              "  <div class=\"colab-df-container\">\n",
              "    <button class=\"colab-df-convert\" onclick=\"convertToInteractive('df-bb06c979-24c3-4028-9642-0aee77f454e7')\"\n",
              "            title=\"Convert this dataframe to an interactive table.\"\n",
              "            style=\"display:none;\">\n",
              "\n",
              "  <svg xmlns=\"http://www.w3.org/2000/svg\" height=\"24px\" viewBox=\"0 -960 960 960\">\n",
              "    <path d=\"M120-120v-720h720v720H120Zm60-500h600v-160H180v160Zm220 220h160v-160H400v160Zm0 220h160v-160H400v160ZM180-400h160v-160H180v160Zm440 0h160v-160H620v160ZM180-180h160v-160H180v160Zm440 0h160v-160H620v160Z\"/>\n",
              "  </svg>\n",
              "    </button>\n",
              "\n",
              "  <style>\n",
              "    .colab-df-container {\n",
              "      display:flex;\n",
              "      gap: 12px;\n",
              "    }\n",
              "\n",
              "    .colab-df-convert {\n",
              "      background-color: #E8F0FE;\n",
              "      border: none;\n",
              "      border-radius: 50%;\n",
              "      cursor: pointer;\n",
              "      display: none;\n",
              "      fill: #1967D2;\n",
              "      height: 32px;\n",
              "      padding: 0 0 0 0;\n",
              "      width: 32px;\n",
              "    }\n",
              "\n",
              "    .colab-df-convert:hover {\n",
              "      background-color: #E2EBFA;\n",
              "      box-shadow: 0px 1px 2px rgba(60, 64, 67, 0.3), 0px 1px 3px 1px rgba(60, 64, 67, 0.15);\n",
              "      fill: #174EA6;\n",
              "    }\n",
              "\n",
              "    .colab-df-buttons div {\n",
              "      margin-bottom: 4px;\n",
              "    }\n",
              "\n",
              "    [theme=dark] .colab-df-convert {\n",
              "      background-color: #3B4455;\n",
              "      fill: #D2E3FC;\n",
              "    }\n",
              "\n",
              "    [theme=dark] .colab-df-convert:hover {\n",
              "      background-color: #434B5C;\n",
              "      box-shadow: 0px 1px 3px 1px rgba(0, 0, 0, 0.15);\n",
              "      filter: drop-shadow(0px 1px 2px rgba(0, 0, 0, 0.3));\n",
              "      fill: #FFFFFF;\n",
              "    }\n",
              "  </style>\n",
              "\n",
              "    <script>\n",
              "      const buttonEl =\n",
              "        document.querySelector('#df-bb06c979-24c3-4028-9642-0aee77f454e7 button.colab-df-convert');\n",
              "      buttonEl.style.display =\n",
              "        google.colab.kernel.accessAllowed ? 'block' : 'none';\n",
              "\n",
              "      async function convertToInteractive(key) {\n",
              "        const element = document.querySelector('#df-bb06c979-24c3-4028-9642-0aee77f454e7');\n",
              "        const dataTable =\n",
              "          await google.colab.kernel.invokeFunction('convertToInteractive',\n",
              "                                                    [key], {});\n",
              "        if (!dataTable) return;\n",
              "\n",
              "        const docLinkHtml = 'Like what you see? Visit the ' +\n",
              "          '<a target=\"_blank\" href=https://colab.research.google.com/notebooks/data_table.ipynb>data table notebook</a>'\n",
              "          + ' to learn more about interactive tables.';\n",
              "        element.innerHTML = '';\n",
              "        dataTable['output_type'] = 'display_data';\n",
              "        await google.colab.output.renderOutput(dataTable, element);\n",
              "        const docLink = document.createElement('div');\n",
              "        docLink.innerHTML = docLinkHtml;\n",
              "        element.appendChild(docLink);\n",
              "      }\n",
              "    </script>\n",
              "  </div>\n",
              "\n",
              "\n",
              "    <div id=\"df-d7b6e566-ce3b-4961-87dc-637da6c16125\">\n",
              "      <button class=\"colab-df-quickchart\" onclick=\"quickchart('df-d7b6e566-ce3b-4961-87dc-637da6c16125')\"\n",
              "                title=\"Suggest charts\"\n",
              "                style=\"display:none;\">\n",
              "\n",
              "<svg xmlns=\"http://www.w3.org/2000/svg\" height=\"24px\"viewBox=\"0 0 24 24\"\n",
              "     width=\"24px\">\n",
              "    <g>\n",
              "        <path d=\"M19 3H5c-1.1 0-2 .9-2 2v14c0 1.1.9 2 2 2h14c1.1 0 2-.9 2-2V5c0-1.1-.9-2-2-2zM9 17H7v-7h2v7zm4 0h-2V7h2v10zm4 0h-2v-4h2v4z\"/>\n",
              "    </g>\n",
              "</svg>\n",
              "      </button>\n",
              "\n",
              "<style>\n",
              "  .colab-df-quickchart {\n",
              "      --bg-color: #E8F0FE;\n",
              "      --fill-color: #1967D2;\n",
              "      --hover-bg-color: #E2EBFA;\n",
              "      --hover-fill-color: #174EA6;\n",
              "      --disabled-fill-color: #AAA;\n",
              "      --disabled-bg-color: #DDD;\n",
              "  }\n",
              "\n",
              "  [theme=dark] .colab-df-quickchart {\n",
              "      --bg-color: #3B4455;\n",
              "      --fill-color: #D2E3FC;\n",
              "      --hover-bg-color: #434B5C;\n",
              "      --hover-fill-color: #FFFFFF;\n",
              "      --disabled-bg-color: #3B4455;\n",
              "      --disabled-fill-color: #666;\n",
              "  }\n",
              "\n",
              "  .colab-df-quickchart {\n",
              "    background-color: var(--bg-color);\n",
              "    border: none;\n",
              "    border-radius: 50%;\n",
              "    cursor: pointer;\n",
              "    display: none;\n",
              "    fill: var(--fill-color);\n",
              "    height: 32px;\n",
              "    padding: 0;\n",
              "    width: 32px;\n",
              "  }\n",
              "\n",
              "  .colab-df-quickchart:hover {\n",
              "    background-color: var(--hover-bg-color);\n",
              "    box-shadow: 0 1px 2px rgba(60, 64, 67, 0.3), 0 1px 3px 1px rgba(60, 64, 67, 0.15);\n",
              "    fill: var(--button-hover-fill-color);\n",
              "  }\n",
              "\n",
              "  .colab-df-quickchart-complete:disabled,\n",
              "  .colab-df-quickchart-complete:disabled:hover {\n",
              "    background-color: var(--disabled-bg-color);\n",
              "    fill: var(--disabled-fill-color);\n",
              "    box-shadow: none;\n",
              "  }\n",
              "\n",
              "  .colab-df-spinner {\n",
              "    border: 2px solid var(--fill-color);\n",
              "    border-color: transparent;\n",
              "    border-bottom-color: var(--fill-color);\n",
              "    animation:\n",
              "      spin 1s steps(1) infinite;\n",
              "  }\n",
              "\n",
              "  @keyframes spin {\n",
              "    0% {\n",
              "      border-color: transparent;\n",
              "      border-bottom-color: var(--fill-color);\n",
              "      border-left-color: var(--fill-color);\n",
              "    }\n",
              "    20% {\n",
              "      border-color: transparent;\n",
              "      border-left-color: var(--fill-color);\n",
              "      border-top-color: var(--fill-color);\n",
              "    }\n",
              "    30% {\n",
              "      border-color: transparent;\n",
              "      border-left-color: var(--fill-color);\n",
              "      border-top-color: var(--fill-color);\n",
              "      border-right-color: var(--fill-color);\n",
              "    }\n",
              "    40% {\n",
              "      border-color: transparent;\n",
              "      border-right-color: var(--fill-color);\n",
              "      border-top-color: var(--fill-color);\n",
              "    }\n",
              "    60% {\n",
              "      border-color: transparent;\n",
              "      border-right-color: var(--fill-color);\n",
              "    }\n",
              "    80% {\n",
              "      border-color: transparent;\n",
              "      border-right-color: var(--fill-color);\n",
              "      border-bottom-color: var(--fill-color);\n",
              "    }\n",
              "    90% {\n",
              "      border-color: transparent;\n",
              "      border-bottom-color: var(--fill-color);\n",
              "    }\n",
              "  }\n",
              "</style>\n",
              "\n",
              "      <script>\n",
              "        async function quickchart(key) {\n",
              "          const quickchartButtonEl =\n",
              "            document.querySelector('#' + key + ' button');\n",
              "          quickchartButtonEl.disabled = true;  // To prevent multiple clicks.\n",
              "          quickchartButtonEl.classList.add('colab-df-spinner');\n",
              "          try {\n",
              "            const charts = await google.colab.kernel.invokeFunction(\n",
              "                'suggestCharts', [key], {});\n",
              "          } catch (error) {\n",
              "            console.error('Error during call to suggestCharts:', error);\n",
              "          }\n",
              "          quickchartButtonEl.classList.remove('colab-df-spinner');\n",
              "          quickchartButtonEl.classList.add('colab-df-quickchart-complete');\n",
              "        }\n",
              "        (() => {\n",
              "          let quickchartButtonEl =\n",
              "            document.querySelector('#df-d7b6e566-ce3b-4961-87dc-637da6c16125 button');\n",
              "          quickchartButtonEl.style.display =\n",
              "            google.colab.kernel.accessAllowed ? 'block' : 'none';\n",
              "        })();\n",
              "      </script>\n",
              "    </div>\n",
              "\n",
              "    </div>\n",
              "  </div>\n"
            ],
            "application/vnd.google.colaboratory.intrinsic+json": {
              "type": "dataframe",
              "variable_name": "df",
              "summary": "{\n  \"name\": \"df\",\n  \"rows\": 768,\n  \"fields\": [\n    {\n      \"column\": \"Pregnancies\",\n      \"properties\": {\n        \"dtype\": \"number\",\n        \"std\": 3,\n        \"min\": 0,\n        \"max\": 17,\n        \"num_unique_values\": 17,\n        \"samples\": [\n          6,\n          1,\n          3\n        ],\n        \"semantic_type\": \"\",\n        \"description\": \"\"\n      }\n    },\n    {\n      \"column\": \"Glucose\",\n      \"properties\": {\n        \"dtype\": \"number\",\n        \"std\": 31,\n        \"min\": 0,\n        \"max\": 199,\n        \"num_unique_values\": 136,\n        \"samples\": [\n          151,\n          101,\n          112\n        ],\n        \"semantic_type\": \"\",\n        \"description\": \"\"\n      }\n    },\n    {\n      \"column\": \"BloodPressure\",\n      \"properties\": {\n        \"dtype\": \"number\",\n        \"std\": 19,\n        \"min\": 0,\n        \"max\": 122,\n        \"num_unique_values\": 47,\n        \"samples\": [\n          86,\n          46,\n          85\n        ],\n        \"semantic_type\": \"\",\n        \"description\": \"\"\n      }\n    },\n    {\n      \"column\": \"SkinThickness\",\n      \"properties\": {\n        \"dtype\": \"number\",\n        \"std\": 15,\n        \"min\": 0,\n        \"max\": 99,\n        \"num_unique_values\": 51,\n        \"samples\": [\n          7,\n          12,\n          48\n        ],\n        \"semantic_type\": \"\",\n        \"description\": \"\"\n      }\n    },\n    {\n      \"column\": \"Insulin\",\n      \"properties\": {\n        \"dtype\": \"number\",\n        \"std\": 115,\n        \"min\": 0,\n        \"max\": 846,\n        \"num_unique_values\": 186,\n        \"samples\": [\n          52,\n          41,\n          183\n        ],\n        \"semantic_type\": \"\",\n        \"description\": \"\"\n      }\n    },\n    {\n      \"column\": \"BMI\",\n      \"properties\": {\n        \"dtype\": \"number\",\n        \"std\": 7.8841603203754405,\n        \"min\": 0.0,\n        \"max\": 67.1,\n        \"num_unique_values\": 248,\n        \"samples\": [\n          19.9,\n          31.0,\n          38.1\n        ],\n        \"semantic_type\": \"\",\n        \"description\": \"\"\n      }\n    },\n    {\n      \"column\": \"DiabetesPedigreeFunction\",\n      \"properties\": {\n        \"dtype\": \"number\",\n        \"std\": 0.33132859501277484,\n        \"min\": 0.078,\n        \"max\": 2.42,\n        \"num_unique_values\": 517,\n        \"samples\": [\n          1.731,\n          0.426,\n          0.138\n        ],\n        \"semantic_type\": \"\",\n        \"description\": \"\"\n      }\n    },\n    {\n      \"column\": \"Age\",\n      \"properties\": {\n        \"dtype\": \"number\",\n        \"std\": 11,\n        \"min\": 21,\n        \"max\": 81,\n        \"num_unique_values\": 52,\n        \"samples\": [\n          60,\n          47,\n          72\n        ],\n        \"semantic_type\": \"\",\n        \"description\": \"\"\n      }\n    },\n    {\n      \"column\": \"Outcome\",\n      \"properties\": {\n        \"dtype\": \"number\",\n        \"std\": 0,\n        \"min\": 0,\n        \"max\": 1,\n        \"num_unique_values\": 2,\n        \"samples\": [\n          0,\n          1\n        ],\n        \"semantic_type\": \"\",\n        \"description\": \"\"\n      }\n    }\n  ]\n}"
            }
          },
          "metadata": {},
          "execution_count": 2
        }
      ],
      "source": [
        "# Import necessary libraries\n",
        "import optuna\n",
        "from sklearn.datasets import load_diabetes\n",
        "from sklearn.model_selection import train_test_split\n",
        "from sklearn.preprocessing import StandardScaler\n",
        "\n",
        "# Load the Pima Indian Diabetes dataset from sklearn\n",
        "# Note: Scikit-learn's built-in 'load_diabetes' is a regression dataset.\n",
        "# We will load the actual diabetes dataset from an external source\n",
        "import pandas as pd\n",
        "\n",
        "# Load the Pima Indian Diabetes dataset (from UCI repository)\n",
        "url = \"https://raw.githubusercontent.com/jbrownlee/Datasets/master/pima-indians-diabetes.data.csv\"\n",
        "columns = ['Pregnancies', 'Glucose', 'BloodPressure', 'SkinThickness', 'Insulin', 'BMI',\n",
        "           'DiabetesPedigreeFunction', 'Age', 'Outcome']\n",
        "\n",
        "# Load the dataset\n",
        "df = pd.read_csv(url, names=columns)\n",
        "\n",
        "df.head()"
      ]
    },
    {
      "cell_type": "code",
      "execution_count": null,
      "metadata": {
        "colab": {
          "base_uri": "https://localhost:8080/"
        },
        "id": "ie5hew0sqz6i",
        "outputId": "10e9d80c-dbad-4c02-faa1-1bf8eb342b46"
      },
      "outputs": [
        {
          "output_type": "stream",
          "name": "stdout",
          "text": [
            "Pregnancies                 0\n",
            "Glucose                     0\n",
            "BloodPressure               0\n",
            "SkinThickness               0\n",
            "Insulin                     0\n",
            "BMI                         0\n",
            "DiabetesPedigreeFunction    0\n",
            "Age                         0\n",
            "Outcome                     0\n",
            "dtype: int64\n"
          ]
        }
      ],
      "source": [
        "import numpy as np\n",
        "\n",
        "# Replace zero values with NaN in columns where zero is not a valid value\n",
        "cols_with_missing_vals = ['Glucose', 'BloodPressure', 'SkinThickness', 'Insulin', 'BMI']\n",
        "df[cols_with_missing_vals] = df[cols_with_missing_vals].replace(0, np.nan)\n",
        "\n",
        "# Impute the missing values with the mean of the respective column\n",
        "df.fillna(df.mean(), inplace=True)\n",
        "\n",
        "# Check if there are any remaining missing values\n",
        "print(df.isnull().sum())"
      ]
    },
    {
      "cell_type": "code",
      "execution_count": null,
      "metadata": {
        "colab": {
          "base_uri": "https://localhost:8080/"
        },
        "id": "0iik5E_irfbu",
        "outputId": "5532f750-7a9b-4ba7-8a11-da7ea55fb437"
      },
      "outputs": [
        {
          "output_type": "stream",
          "name": "stdout",
          "text": [
            "Training set shape: (537, 8)\n",
            "Test set shape: (231, 8)\n"
          ]
        }
      ],
      "source": [
        "# Split into features (X) and target (y)\n",
        "X = df.drop('Outcome', axis=1)\n",
        "y = df['Outcome']\n",
        "\n",
        "# Split data into training and test sets (70% train, 30% test)\n",
        "X_train, X_test, y_train, y_test = train_test_split(X, y, test_size=0.3, random_state=42)\n",
        "\n",
        "# Optional: Scale the data for better model performance\n",
        "scaler = StandardScaler()\n",
        "X_train = scaler.fit_transform(X_train)\n",
        "X_test = scaler.transform(X_test)\n",
        "\n",
        "# Check the shape of the data\n",
        "print(f'Training set shape: {X_train.shape}')\n",
        "print(f'Test set shape: {X_test.shape}')\n"
      ]
    },
    {
      "cell_type": "code",
      "execution_count": null,
      "metadata": {
        "id": "1-WycXQarsv7"
      },
      "outputs": [],
      "source": [
        "from sklearn.ensemble import RandomForestClassifier\n",
        "from sklearn.model_selection import cross_val_score\n",
        "\n",
        "# Define the objective function\n",
        "def objective(trial):\n",
        "    # Suggest values for the hyperparameters\n",
        "    n_estimators = trial.suggest_int('n_estimators', 50, 200)\n",
        "    max_depth = trial.suggest_int('max_depth', 3, 20)\n",
        "\n",
        "    # Create the RandomForestClassifier with suggested hyperparameters\n",
        "    model = RandomForestClassifier(\n",
        "        n_estimators=n_estimators,\n",
        "        max_depth=max_depth,\n",
        "        random_state=42\n",
        "    )\n",
        "\n",
        "    # Perform 3-fold cross-validation and calculate accuracy\n",
        "    score = cross_val_score(model, X_train, y_train, cv=3, scoring='accuracy').mean()\n",
        "\n",
        "    return score  # Return the accuracy score for Optuna to maximize\n"
      ]
    },
    {
      "cell_type": "code",
      "execution_count": null,
      "metadata": {
        "colab": {
          "base_uri": "https://localhost:8080/"
        },
        "id": "t_U5zpELsqla",
        "outputId": "4e1ad65b-95e7-454c-d8a1-1b2a518dfc0b"
      },
      "outputs": [
        {
          "output_type": "stream",
          "name": "stderr",
          "text": [
            "[I 2025-07-18 18:17:45,636] A new study created in memory with name: no-name-3365b512-6c7a-428d-a0b9-3168caeea1b9\n",
            "[I 2025-07-18 18:17:46,531] Trial 0 finished with value: 0.7597765363128491 and parameters: {'n_estimators': 158, 'max_depth': 6}. Best is trial 0 with value: 0.7597765363128491.\n",
            "[I 2025-07-18 18:17:47,432] Trial 1 finished with value: 0.7728119180633147 and parameters: {'n_estimators': 151, 'max_depth': 17}. Best is trial 1 with value: 0.7728119180633147.\n",
            "[I 2025-07-18 18:17:47,803] Trial 2 finished with value: 0.7728119180633147 and parameters: {'n_estimators': 64, 'max_depth': 18}. Best is trial 1 with value: 0.7728119180633147.\n",
            "[I 2025-07-18 18:17:48,328] Trial 3 finished with value: 0.7616387337057727 and parameters: {'n_estimators': 91, 'max_depth': 8}. Best is trial 1 with value: 0.7728119180633147.\n",
            "[I 2025-07-18 18:17:48,609] Trial 4 finished with value: 0.7635009310986964 and parameters: {'n_estimators': 50, 'max_depth': 6}. Best is trial 1 with value: 0.7728119180633147.\n",
            "[I 2025-07-18 18:17:49,004] Trial 5 finished with value: 0.7709497206703911 and parameters: {'n_estimators': 70, 'max_depth': 8}. Best is trial 1 with value: 0.7728119180633147.\n",
            "[I 2025-07-18 18:17:49,505] Trial 6 finished with value: 0.7653631284916201 and parameters: {'n_estimators': 85, 'max_depth': 9}. Best is trial 1 with value: 0.7728119180633147.\n",
            "[I 2025-07-18 18:17:50,062] Trial 7 finished with value: 0.7709497206703911 and parameters: {'n_estimators': 99, 'max_depth': 13}. Best is trial 1 with value: 0.7728119180633147.\n",
            "[I 2025-07-18 18:17:51,568] Trial 8 finished with value: 0.7653631284916201 and parameters: {'n_estimators': 103, 'max_depth': 11}. Best is trial 1 with value: 0.7728119180633147.\n",
            "[I 2025-07-18 18:17:53,352] Trial 9 finished with value: 0.7635009310986964 and parameters: {'n_estimators': 173, 'max_depth': 6}. Best is trial 1 with value: 0.7728119180633147.\n",
            "[I 2025-07-18 18:17:54,176] Trial 10 finished with value: 0.7709497206703911 and parameters: {'n_estimators': 140, 'max_depth': 20}. Best is trial 1 with value: 0.7728119180633147.\n",
            "[I 2025-07-18 18:17:54,902] Trial 11 finished with value: 0.7783985102420856 and parameters: {'n_estimators': 129, 'max_depth': 18}. Best is trial 11 with value: 0.7783985102420856.\n",
            "[I 2025-07-18 18:17:55,994] Trial 12 finished with value: 0.7783985102420857 and parameters: {'n_estimators': 194, 'max_depth': 16}. Best is trial 12 with value: 0.7783985102420857.\n",
            "[I 2025-07-18 18:17:57,139] Trial 13 finished with value: 0.7728119180633147 and parameters: {'n_estimators': 200, 'max_depth': 15}. Best is trial 12 with value: 0.7783985102420857.\n",
            "[I 2025-07-18 18:17:57,846] Trial 14 finished with value: 0.7858472998137803 and parameters: {'n_estimators': 121, 'max_depth': 15}. Best is trial 14 with value: 0.7858472998137803.\n",
            "[I 2025-07-18 18:17:58,943] Trial 15 finished with value: 0.7709497206703911 and parameters: {'n_estimators': 194, 'max_depth': 14}. Best is trial 14 with value: 0.7858472998137803.\n",
            "[I 2025-07-18 18:17:59,666] Trial 16 finished with value: 0.7802607076350093 and parameters: {'n_estimators': 126, 'max_depth': 16}. Best is trial 14 with value: 0.7858472998137803.\n",
            "[I 2025-07-18 18:18:00,342] Trial 17 finished with value: 0.7765363128491621 and parameters: {'n_estimators': 116, 'max_depth': 12}. Best is trial 14 with value: 0.7858472998137803.\n",
            "[I 2025-07-18 18:18:01,040] Trial 18 finished with value: 0.7765363128491621 and parameters: {'n_estimators': 118, 'max_depth': 20}. Best is trial 14 with value: 0.7858472998137803.\n",
            "[I 2025-07-18 18:18:01,692] Trial 19 finished with value: 0.7560521415270017 and parameters: {'n_estimators': 134, 'max_depth': 3}. Best is trial 14 with value: 0.7858472998137803.\n",
            "[I 2025-07-18 18:18:02,648] Trial 20 finished with value: 0.7635009310986964 and parameters: {'n_estimators': 168, 'max_depth': 11}. Best is trial 14 with value: 0.7858472998137803.\n",
            "[I 2025-07-18 18:18:04,147] Trial 21 finished with value: 0.7765363128491621 and parameters: {'n_estimators': 183, 'max_depth': 16}. Best is trial 14 with value: 0.7858472998137803.\n",
            "[I 2025-07-18 18:18:05,536] Trial 22 finished with value: 0.7690875232774674 and parameters: {'n_estimators': 148, 'max_depth': 15}. Best is trial 14 with value: 0.7858472998137803.\n",
            "[I 2025-07-18 18:18:06,294] Trial 23 finished with value: 0.7765363128491621 and parameters: {'n_estimators': 114, 'max_depth': 17}. Best is trial 14 with value: 0.7858472998137803.\n",
            "[I 2025-07-18 18:18:07,265] Trial 24 finished with value: 0.7728119180633147 and parameters: {'n_estimators': 170, 'max_depth': 14}. Best is trial 14 with value: 0.7858472998137803.\n",
            "[I 2025-07-18 18:18:08,335] Trial 25 finished with value: 0.7728119180633147 and parameters: {'n_estimators': 185, 'max_depth': 18}. Best is trial 14 with value: 0.7858472998137803.\n",
            "[I 2025-07-18 18:18:09,059] Trial 26 finished with value: 0.7802607076350093 and parameters: {'n_estimators': 125, 'max_depth': 16}. Best is trial 14 with value: 0.7858472998137803.\n",
            "[I 2025-07-18 18:18:09,702] Trial 27 finished with value: 0.7728119180633147 and parameters: {'n_estimators': 107, 'max_depth': 13}. Best is trial 14 with value: 0.7858472998137803.\n",
            "[I 2025-07-18 18:18:10,439] Trial 28 finished with value: 0.7802607076350093 and parameters: {'n_estimators': 125, 'max_depth': 19}. Best is trial 14 with value: 0.7858472998137803.\n",
            "[I 2025-07-18 18:18:11,272] Trial 29 finished with value: 0.7709497206703911 and parameters: {'n_estimators': 143, 'max_depth': 16}. Best is trial 14 with value: 0.7858472998137803.\n",
            "[I 2025-07-18 18:18:12,004] Trial 30 finished with value: 0.7728119180633147 and parameters: {'n_estimators': 128, 'max_depth': 14}. Best is trial 14 with value: 0.7858472998137803.\n",
            "[I 2025-07-18 18:18:12,732] Trial 31 finished with value: 0.7765363128491619 and parameters: {'n_estimators': 124, 'max_depth': 19}. Best is trial 14 with value: 0.7858472998137803.\n",
            "[I 2025-07-18 18:18:13,657] Trial 32 finished with value: 0.7690875232774674 and parameters: {'n_estimators': 159, 'max_depth': 17}. Best is trial 14 with value: 0.7858472998137803.\n",
            "[I 2025-07-18 18:18:14,466] Trial 33 finished with value: 0.7746741154562383 and parameters: {'n_estimators': 137, 'max_depth': 19}. Best is trial 14 with value: 0.7858472998137803.\n",
            "[I 2025-07-18 18:18:15,334] Trial 34 finished with value: 0.7728119180633147 and parameters: {'n_estimators': 155, 'max_depth': 19}. Best is trial 14 with value: 0.7858472998137803.\n",
            "[I 2025-07-18 18:18:15,934] Trial 35 finished with value: 0.7746741154562384 and parameters: {'n_estimators': 91, 'max_depth': 17}. Best is trial 14 with value: 0.7858472998137803.\n",
            "[I 2025-07-18 18:18:17,068] Trial 36 finished with value: 0.7783985102420857 and parameters: {'n_estimators': 122, 'max_depth': 15}. Best is trial 14 with value: 0.7858472998137803.\n",
            "[I 2025-07-18 18:18:18,122] Trial 37 finished with value: 0.7746741154562384 and parameters: {'n_estimators': 112, 'max_depth': 18}. Best is trial 14 with value: 0.7858472998137803.\n",
            "[I 2025-07-18 18:18:18,814] Trial 38 finished with value: 0.7690875232774674 and parameters: {'n_estimators': 95, 'max_depth': 16}. Best is trial 14 with value: 0.7858472998137803.\n",
            "[I 2025-07-18 18:18:19,259] Trial 39 finished with value: 0.7728119180633147 and parameters: {'n_estimators': 76, 'max_depth': 13}. Best is trial 14 with value: 0.7858472998137803.\n",
            "[I 2025-07-18 18:18:19,876] Trial 40 finished with value: 0.7635009310986964 and parameters: {'n_estimators': 105, 'max_depth': 10}. Best is trial 14 with value: 0.7858472998137803.\n",
            "[I 2025-07-18 18:18:20,194] Trial 41 finished with value: 0.7728119180633147 and parameters: {'n_estimators': 53, 'max_depth': 16}. Best is trial 14 with value: 0.7858472998137803.\n",
            "[I 2025-07-18 18:18:20,689] Trial 42 finished with value: 0.7709497206703911 and parameters: {'n_estimators': 80, 'max_depth': 15}. Best is trial 14 with value: 0.7858472998137803.\n",
            "[I 2025-07-18 18:18:21,472] Trial 43 finished with value: 0.7746741154562383 and parameters: {'n_estimators': 132, 'max_depth': 20}. Best is trial 14 with value: 0.7858472998137803.\n",
            "[I 2025-07-18 18:18:22,296] Trial 44 finished with value: 0.7690875232774674 and parameters: {'n_estimators': 145, 'max_depth': 18}. Best is trial 14 with value: 0.7858472998137803.\n",
            "[I 2025-07-18 18:18:22,893] Trial 45 finished with value: 0.7709497206703911 and parameters: {'n_estimators': 99, 'max_depth': 17}. Best is trial 14 with value: 0.7858472998137803.\n",
            "[I 2025-07-18 18:18:23,836] Trial 46 finished with value: 0.7709497206703911 and parameters: {'n_estimators': 158, 'max_depth': 12}. Best is trial 14 with value: 0.7858472998137803.\n",
            "[I 2025-07-18 18:18:24,526] Trial 47 finished with value: 0.7690875232774674 and parameters: {'n_estimators': 121, 'max_depth': 14}. Best is trial 14 with value: 0.7858472998137803.\n",
            "[I 2025-07-18 18:18:25,160] Trial 48 finished with value: 0.7783985102420856 and parameters: {'n_estimators': 110, 'max_depth': 16}. Best is trial 14 with value: 0.7858472998137803.\n",
            "[I 2025-07-18 18:18:25,968] Trial 49 finished with value: 0.7746741154562383 and parameters: {'n_estimators': 137, 'max_depth': 19}. Best is trial 14 with value: 0.7858472998137803.\n"
          ]
        }
      ],
      "source": [
        "# Create a study object and optimize the objective function\n",
        "study = optuna.create_study(direction='maximize', sampler=optuna.samplers.TPESampler())  # We aim to maximize accuracy\n",
        "study.optimize(objective, n_trials=50)  # Run 50 trials to find the best hyperparameters"
      ]
    },
    {
      "cell_type": "code",
      "execution_count": null,
      "metadata": {
        "colab": {
          "base_uri": "https://localhost:8080/"
        },
        "id": "2Y6PtCcntDxw",
        "outputId": "dfc0cec8-8963-4624-dfae-b0f4cd7d1a10"
      },
      "outputs": [
        {
          "output_type": "stream",
          "name": "stdout",
          "text": [
            "Best trial accuracy: 0.7858472998137803\n",
            "Best hyperparameters: {'n_estimators': 121, 'max_depth': 15}\n"
          ]
        }
      ],
      "source": [
        "# Print the best result\n",
        "print(f'Best trial accuracy: {study.best_trial.value}')\n",
        "print(f'Best hyperparameters: {study.best_trial.params}')"
      ]
    },
    {
      "cell_type": "code",
      "execution_count": null,
      "metadata": {
        "colab": {
          "base_uri": "https://localhost:8080/"
        },
        "id": "jSQ__bI6tg0-",
        "outputId": "7c24bb06-5337-4abe-f7e3-509bdee99917"
      },
      "outputs": [
        {
          "name": "stdout",
          "output_type": "stream",
          "text": [
            "Test Accuracy with best hyperparameters: 0.74\n"
          ]
        }
      ],
      "source": [
        "from sklearn.metrics import accuracy_score\n",
        "\n",
        "# Train a RandomForestClassifier using the best hyperparameters from Optuna\n",
        "best_model = RandomForestClassifier(**study.best_trial.params, random_state=42)\n",
        "\n",
        "# Fit the model to the training data\n",
        "best_model.fit(X_train, y_train)\n",
        "\n",
        "# Make predictions on the test set\n",
        "y_pred = best_model.predict(X_test)\n",
        "\n",
        "# Calculate the accuracy on the test set\n",
        "test_accuracy = accuracy_score(y_test, y_pred)\n",
        "\n",
        "# Print the test accuracy\n",
        "print(f'Test Accuracy with best hyperparameters: {test_accuracy:.2f}')\n"
      ]
    },
    {
      "cell_type": "markdown",
      "metadata": {
        "id": "7pSDYMlLu9Je"
      },
      "source": [
        "## Samplers in Optuna"
      ]
    },
    {
      "cell_type": "code",
      "execution_count": null,
      "metadata": {
        "id": "fT964nYHuQ1-"
      },
      "outputs": [],
      "source": [
        "from sklearn.ensemble import RandomForestClassifier\n",
        "from sklearn.model_selection import cross_val_score\n",
        "\n",
        "# Define the objective function\n",
        "def objective(trial):\n",
        "    # Suggest values for the hyperparameters\n",
        "    n_estimators = trial.suggest_int('n_estimators', 50, 200)\n",
        "    max_depth = trial.suggest_int('max_depth', 3, 20)\n",
        "\n",
        "    # Create the RandomForestClassifier with suggested hyperparameters\n",
        "    model = RandomForestClassifier(\n",
        "        n_estimators=n_estimators,\n",
        "        max_depth=max_depth,\n",
        "        random_state=42\n",
        "    )\n",
        "\n",
        "    # Perform 3-fold cross-validation and calculate accuracy\n",
        "    score = cross_val_score(model, X_train, y_train, cv=3, scoring='accuracy').mean()\n",
        "\n",
        "    return score  # Return the accuracy score for Optuna to maximize\n"
      ]
    },
    {
      "cell_type": "markdown",
      "metadata": {
        "id": "u3HUjyq9v14m"
      },
      "source": [
        "#Random sampler"
      ]
    },
    {
      "cell_type": "code",
      "execution_count": null,
      "metadata": {
        "colab": {
          "base_uri": "https://localhost:8080/"
        },
        "id": "DoOAEnrDvE0_",
        "outputId": "a482f1f1-4d39-4b45-f65a-7ff45733fa4d"
      },
      "outputs": [
        {
          "name": "stderr",
          "output_type": "stream",
          "text": [
            "[I 2025-07-17 18:55:08,426] A new study created in memory with name: no-name-967d0db7-be01-4608-8f01-a30752397536\n",
            "[I 2025-07-17 18:55:09,807] Trial 0 finished with value: 0.7672253258845437 and parameters: {'n_estimators': 167, 'max_depth': 5}. Best is trial 0 with value: 0.7672253258845437.\n",
            "[I 2025-07-17 18:55:11,422] Trial 1 finished with value: 0.7616387337057727 and parameters: {'n_estimators': 195, 'max_depth': 9}. Best is trial 0 with value: 0.7672253258845437.\n",
            "[I 2025-07-17 18:55:12,295] Trial 2 finished with value: 0.7653631284916201 and parameters: {'n_estimators': 156, 'max_depth': 11}. Best is trial 0 with value: 0.7672253258845437.\n",
            "[I 2025-07-17 18:55:13,278] Trial 3 finished with value: 0.7672253258845437 and parameters: {'n_estimators': 175, 'max_depth': 11}. Best is trial 0 with value: 0.7672253258845437.\n",
            "[I 2025-07-17 18:55:14,167] Trial 4 finished with value: 0.7653631284916201 and parameters: {'n_estimators': 157, 'max_depth': 11}. Best is trial 0 with value: 0.7672253258845437.\n",
            "[I 2025-07-17 18:55:14,934] Trial 5 finished with value: 0.7765363128491619 and parameters: {'n_estimators': 134, 'max_depth': 15}. Best is trial 5 with value: 0.7765363128491619.\n",
            "[I 2025-07-17 18:55:15,467] Trial 6 finished with value: 0.7690875232774674 and parameters: {'n_estimators': 93, 'max_depth': 13}. Best is trial 5 with value: 0.7765363128491619.\n",
            "[I 2025-07-17 18:55:16,638] Trial 7 finished with value: 0.7635009310986964 and parameters: {'n_estimators': 181, 'max_depth': 11}. Best is trial 5 with value: 0.7765363128491619.\n",
            "[I 2025-07-17 18:55:18,278] Trial 8 finished with value: 0.7690875232774674 and parameters: {'n_estimators': 193, 'max_depth': 10}. Best is trial 5 with value: 0.7765363128491619.\n",
            "[I 2025-07-17 18:55:18,730] Trial 9 finished with value: 0.7709497206703911 and parameters: {'n_estimators': 50, 'max_depth': 20}. Best is trial 5 with value: 0.7765363128491619.\n",
            "[I 2025-07-17 18:55:19,222] Trial 10 finished with value: 0.7709497206703911 and parameters: {'n_estimators': 73, 'max_depth': 13}. Best is trial 5 with value: 0.7765363128491619.\n",
            "[I 2025-07-17 18:55:20,158] Trial 11 finished with value: 0.7635009310986964 and parameters: {'n_estimators': 178, 'max_depth': 5}. Best is trial 5 with value: 0.7765363128491619.\n",
            "[I 2025-07-17 18:55:21,181] Trial 12 finished with value: 0.7709497206703911 and parameters: {'n_estimators': 182, 'max_depth': 12}. Best is trial 5 with value: 0.7765363128491619.\n",
            "[I 2025-07-17 18:55:21,870] Trial 13 finished with value: 0.7653631284916201 and parameters: {'n_estimators': 128, 'max_depth': 6}. Best is trial 5 with value: 0.7765363128491619.\n",
            "[I 2025-07-17 18:55:22,812] Trial 14 finished with value: 0.7616387337057727 and parameters: {'n_estimators': 187, 'max_depth': 4}. Best is trial 5 with value: 0.7765363128491619.\n",
            "[I 2025-07-17 18:55:23,585] Trial 15 finished with value: 0.7560521415270017 and parameters: {'n_estimators': 134, 'max_depth': 3}. Best is trial 5 with value: 0.7765363128491619.\n",
            "[I 2025-07-17 18:55:24,547] Trial 16 finished with value: 0.7690875232774674 and parameters: {'n_estimators': 104, 'max_depth': 7}. Best is trial 5 with value: 0.7765363128491619.\n",
            "[I 2025-07-17 18:55:25,723] Trial 17 finished with value: 0.7672253258845437 and parameters: {'n_estimators': 126, 'max_depth': 8}. Best is trial 5 with value: 0.7765363128491619.\n",
            "[I 2025-07-17 18:55:27,041] Trial 18 finished with value: 0.7709497206703911 and parameters: {'n_estimators': 178, 'max_depth': 20}. Best is trial 5 with value: 0.7765363128491619.\n",
            "[I 2025-07-17 18:55:27,782] Trial 19 finished with value: 0.7690875232774674 and parameters: {'n_estimators': 139, 'max_depth': 5}. Best is trial 5 with value: 0.7765363128491619.\n",
            "[I 2025-07-17 18:55:28,141] Trial 20 finished with value: 0.7746741154562384 and parameters: {'n_estimators': 63, 'max_depth': 15}. Best is trial 5 with value: 0.7765363128491619.\n",
            "[I 2025-07-17 18:55:28,842] Trial 21 finished with value: 0.7783985102420856 and parameters: {'n_estimators': 123, 'max_depth': 19}. Best is trial 21 with value: 0.7783985102420856.\n",
            "[I 2025-07-17 18:55:29,455] Trial 22 finished with value: 0.7746741154562384 and parameters: {'n_estimators': 74, 'max_depth': 16}. Best is trial 21 with value: 0.7783985102420856.\n",
            "[I 2025-07-17 18:55:31,080] Trial 23 finished with value: 0.7728119180633147 and parameters: {'n_estimators': 191, 'max_depth': 19}. Best is trial 21 with value: 0.7783985102420856.\n",
            "[I 2025-07-17 18:55:31,943] Trial 24 finished with value: 0.7783985102420856 and parameters: {'n_estimators': 116, 'max_depth': 18}. Best is trial 21 with value: 0.7783985102420856.\n",
            "[I 2025-07-17 18:55:32,939] Trial 25 finished with value: 0.7746741154562384 and parameters: {'n_estimators': 175, 'max_depth': 17}. Best is trial 21 with value: 0.7783985102420856.\n",
            "[I 2025-07-17 18:55:33,259] Trial 26 finished with value: 0.7597765363128491 and parameters: {'n_estimators': 57, 'max_depth': 10}. Best is trial 21 with value: 0.7783985102420856.\n",
            "[I 2025-07-17 18:55:33,933] Trial 27 finished with value: 0.7635009310986964 and parameters: {'n_estimators': 116, 'max_depth': 11}. Best is trial 21 with value: 0.7783985102420856.\n",
            "[I 2025-07-17 18:55:34,252] Trial 28 finished with value: 0.750465549348231 and parameters: {'n_estimators': 63, 'max_depth': 3}. Best is trial 21 with value: 0.7783985102420856.\n",
            "[I 2025-07-17 18:55:34,974] Trial 29 finished with value: 0.7690875232774674 and parameters: {'n_estimators': 134, 'max_depth': 5}. Best is trial 21 with value: 0.7783985102420856.\n",
            "[I 2025-07-17 18:55:35,681] Trial 30 finished with value: 0.7709497206703911 and parameters: {'n_estimators': 135, 'max_depth': 5}. Best is trial 21 with value: 0.7783985102420856.\n",
            "[I 2025-07-17 18:55:36,442] Trial 31 finished with value: 0.7672253258845437 and parameters: {'n_estimators': 145, 'max_depth': 5}. Best is trial 21 with value: 0.7783985102420856.\n",
            "[I 2025-07-17 18:55:37,383] Trial 32 finished with value: 0.7746741154562384 and parameters: {'n_estimators': 175, 'max_depth': 7}. Best is trial 21 with value: 0.7783985102420856.\n",
            "[I 2025-07-17 18:55:38,129] Trial 33 finished with value: 0.7802607076350093 and parameters: {'n_estimators': 129, 'max_depth': 16}. Best is trial 33 with value: 0.7802607076350093.\n",
            "[I 2025-07-17 18:55:39,187] Trial 34 finished with value: 0.7746741154562384 and parameters: {'n_estimators': 190, 'max_depth': 10}. Best is trial 33 with value: 0.7802607076350093.\n",
            "[I 2025-07-17 18:55:39,772] Trial 35 finished with value: 0.7690875232774674 and parameters: {'n_estimators': 101, 'max_depth': 18}. Best is trial 33 with value: 0.7802607076350093.\n",
            "[I 2025-07-17 18:55:40,296] Trial 36 finished with value: 0.7635009310986964 and parameters: {'n_estimators': 99, 'max_depth': 4}. Best is trial 33 with value: 0.7802607076350093.\n",
            "[I 2025-07-17 18:55:41,217] Trial 37 finished with value: 0.7616387337057727 and parameters: {'n_estimators': 166, 'max_depth': 9}. Best is trial 33 with value: 0.7802607076350093.\n",
            "[I 2025-07-17 18:55:41,604] Trial 38 finished with value: 0.7709497206703911 and parameters: {'n_estimators': 63, 'max_depth': 14}. Best is trial 33 with value: 0.7802607076350093.\n",
            "[I 2025-07-17 18:55:43,128] Trial 39 finished with value: 0.7709497206703911 and parameters: {'n_estimators': 178, 'max_depth': 19}. Best is trial 33 with value: 0.7802607076350093.\n",
            "[I 2025-07-17 18:55:44,410] Trial 40 finished with value: 0.7653631284916201 and parameters: {'n_estimators': 160, 'max_depth': 10}. Best is trial 33 with value: 0.7802607076350093.\n",
            "[I 2025-07-17 18:55:45,030] Trial 41 finished with value: 0.7709497206703911 and parameters: {'n_estimators': 110, 'max_depth': 18}. Best is trial 33 with value: 0.7802607076350093.\n",
            "[I 2025-07-17 18:55:45,963] Trial 42 finished with value: 0.7690875232774674 and parameters: {'n_estimators': 163, 'max_depth': 13}. Best is trial 33 with value: 0.7802607076350093.\n",
            "[I 2025-07-17 18:55:46,448] Trial 43 finished with value: 0.7672253258845437 and parameters: {'n_estimators': 83, 'max_depth': 18}. Best is trial 33 with value: 0.7802607076350093.\n",
            "[I 2025-07-17 18:55:47,099] Trial 44 finished with value: 0.7746741154562384 and parameters: {'n_estimators': 117, 'max_depth': 18}. Best is trial 33 with value: 0.7802607076350093.\n",
            "[I 2025-07-17 18:55:47,418] Trial 45 finished with value: 0.7709497206703911 and parameters: {'n_estimators': 53, 'max_depth': 14}. Best is trial 33 with value: 0.7802607076350093.\n",
            "[I 2025-07-17 18:55:47,886] Trial 46 finished with value: 0.7635009310986964 and parameters: {'n_estimators': 82, 'max_depth': 16}. Best is trial 33 with value: 0.7802607076350093.\n",
            "[I 2025-07-17 18:55:48,718] Trial 47 finished with value: 0.7709497206703911 and parameters: {'n_estimators': 143, 'max_depth': 15}. Best is trial 33 with value: 0.7802607076350093.\n",
            "[I 2025-07-17 18:55:49,195] Trial 48 finished with value: 0.7746741154562384 and parameters: {'n_estimators': 81, 'max_depth': 16}. Best is trial 33 with value: 0.7802607076350093.\n",
            "[I 2025-07-17 18:55:49,720] Trial 49 finished with value: 0.7746741154562384 and parameters: {'n_estimators': 89, 'max_depth': 20}. Best is trial 33 with value: 0.7802607076350093.\n"
          ]
        }
      ],
      "source": [
        "study = optuna.create_study(direction='maximize', sampler=optuna.samplers.RandomSampler())  # We aim to maximize accuracy\n",
        "study.optimize(objective, n_trials=50)  # Run 50 trials to find the best hyperparameters"
      ]
    },
    {
      "cell_type": "code",
      "execution_count": null,
      "metadata": {
        "colab": {
          "base_uri": "https://localhost:8080/"
        },
        "id": "CyTV3PswvYdp",
        "outputId": "de78c387-dfa7-4ce4-d9f3-3aff5891b1cd"
      },
      "outputs": [
        {
          "name": "stdout",
          "output_type": "stream",
          "text": [
            "Best trial accuracy: 0.7802607076350093\n",
            "Best hyperparameters: {'n_estimators': 129, 'max_depth': 16}\n"
          ]
        }
      ],
      "source": [
        "# Print the best result\n",
        "print(f'Best trial accuracy: {study.best_trial.value}')\n",
        "print(f'Best hyperparameters: {study.best_trial.params}')"
      ]
    },
    {
      "cell_type": "code",
      "execution_count": null,
      "metadata": {
        "colab": {
          "base_uri": "https://localhost:8080/"
        },
        "id": "gDZ98FPnvoPn",
        "outputId": "d889df55-10da-4762-c71e-dafb8832c463"
      },
      "outputs": [
        {
          "name": "stdout",
          "output_type": "stream",
          "text": [
            "Test Accuracy with best hyperparameters: 0.74\n"
          ]
        }
      ],
      "source": [
        "from sklearn.metrics import accuracy_score\n",
        "\n",
        "# Train a RandomForestClassifier using the best hyperparameters from Optuna\n",
        "best_model = RandomForestClassifier(**study.best_trial.params, random_state=42)\n",
        "\n",
        "# Fit the model to the training data\n",
        "best_model.fit(X_train, y_train)\n",
        "\n",
        "# Make predictions on the test set\n",
        "y_pred = best_model.predict(X_test)\n",
        "\n",
        "# Calculate the accuracy on the test set\n",
        "test_accuracy = accuracy_score(y_test, y_pred)\n",
        "\n",
        "# Print the test accuracy\n",
        "print(f'Test Accuracy with best hyperparameters: {test_accuracy:.2f}')\n"
      ]
    },
    {
      "cell_type": "markdown",
      "metadata": {
        "id": "MzHFREhiv91s"
      },
      "source": [
        "#Grid Sampler"
      ]
    },
    {
      "cell_type": "code",
      "execution_count": null,
      "metadata": {
        "id": "pIjY3L4uvuBh"
      },
      "outputs": [],
      "source": [
        "search_space = {\n",
        "    'n_estimators': [50, 100, 150, 200],\n",
        "    'max_depth': [5, 10, 15, 20]\n",
        "}"
      ]
    },
    {
      "cell_type": "code",
      "execution_count": null,
      "metadata": {
        "colab": {
          "base_uri": "https://localhost:8080/"
        },
        "id": "kHC-7pX6wCFE",
        "outputId": "9cf25dff-742e-43d0-9c04-ea648d49d164"
      },
      "outputs": [
        {
          "name": "stderr",
          "output_type": "stream",
          "text": [
            "[I 2025-07-17 18:58:13,956] A new study created in memory with name: no-name-448f06b9-6e02-4062-83cf-ce8b68c614a2\n",
            "[I 2025-07-17 18:58:15,306] Trial 0 finished with value: 0.7690875232774674 and parameters: {'n_estimators': 100, 'max_depth': 5}. Best is trial 0 with value: 0.7690875232774674.\n",
            "[I 2025-07-17 18:58:18,157] Trial 1 finished with value: 0.7672253258845437 and parameters: {'n_estimators': 150, 'max_depth': 10}. Best is trial 0 with value: 0.7690875232774674.\n",
            "[I 2025-07-17 18:58:18,700] Trial 2 finished with value: 0.7728119180633147 and parameters: {'n_estimators': 50, 'max_depth': 15}. Best is trial 2 with value: 0.7728119180633147.\n",
            "[I 2025-07-17 18:58:20,076] Trial 3 finished with value: 0.7653631284916201 and parameters: {'n_estimators': 100, 'max_depth': 15}. Best is trial 2 with value: 0.7728119180633147.\n",
            "[I 2025-07-17 18:58:20,659] Trial 4 finished with value: 0.7690875232774674 and parameters: {'n_estimators': 100, 'max_depth': 20}. Best is trial 2 with value: 0.7728119180633147.\n",
            "[I 2025-07-17 18:58:20,960] Trial 5 finished with value: 0.7579143389199254 and parameters: {'n_estimators': 50, 'max_depth': 10}. Best is trial 2 with value: 0.7728119180633147.\n",
            "[I 2025-07-17 18:58:21,742] Trial 6 finished with value: 0.7653631284916201 and parameters: {'n_estimators': 150, 'max_depth': 5}. Best is trial 2 with value: 0.7728119180633147.\n",
            "[I 2025-07-17 18:58:22,600] Trial 7 finished with value: 0.7728119180633147 and parameters: {'n_estimators': 150, 'max_depth': 20}. Best is trial 2 with value: 0.7728119180633147.\n",
            "[I 2025-07-17 18:58:23,459] Trial 8 finished with value: 0.7728119180633147 and parameters: {'n_estimators': 150, 'max_depth': 15}. Best is trial 2 with value: 0.7728119180633147.\n",
            "[I 2025-07-17 18:58:24,574] Trial 9 finished with value: 0.7709497206703911 and parameters: {'n_estimators': 200, 'max_depth': 10}. Best is trial 2 with value: 0.7728119180633147.\n",
            "[I 2025-07-17 18:58:25,702] Trial 10 finished with value: 0.7728119180633147 and parameters: {'n_estimators': 200, 'max_depth': 20}. Best is trial 2 with value: 0.7728119180633147.\n",
            "[I 2025-07-17 18:58:26,836] Trial 11 finished with value: 0.7728119180633147 and parameters: {'n_estimators': 200, 'max_depth': 15}. Best is trial 2 with value: 0.7728119180633147.\n",
            "[I 2025-07-17 18:58:27,969] Trial 12 finished with value: 0.7690875232774674 and parameters: {'n_estimators': 200, 'max_depth': 5}. Best is trial 2 with value: 0.7728119180633147.\n",
            "[I 2025-07-17 18:58:28,398] Trial 13 finished with value: 0.7746741154562384 and parameters: {'n_estimators': 50, 'max_depth': 5}. Best is trial 13 with value: 0.7746741154562384.\n",
            "[I 2025-07-17 18:58:29,236] Trial 14 finished with value: 0.7616387337057727 and parameters: {'n_estimators': 100, 'max_depth': 10}. Best is trial 13 with value: 0.7746741154562384.\n",
            "[I 2025-07-17 18:58:29,684] Trial 15 finished with value: 0.7709497206703911 and parameters: {'n_estimators': 50, 'max_depth': 20}. Best is trial 13 with value: 0.7746741154562384.\n"
          ]
        }
      ],
      "source": [
        "# Create a study and optimize it using GridSampler\n",
        "study = optuna.create_study(direction='maximize', sampler=optuna.samplers.GridSampler(search_space))\n",
        "study.optimize(objective)"
      ]
    },
    {
      "cell_type": "code",
      "execution_count": null,
      "metadata": {
        "colab": {
          "base_uri": "https://localhost:8080/"
        },
        "id": "yOWZ-SyiwFws",
        "outputId": "6016c3a3-968d-40a5-f212-823fcfcf0050"
      },
      "outputs": [
        {
          "name": "stdout",
          "output_type": "stream",
          "text": [
            "Best trial accuracy: 0.7746741154562384\n",
            "Best hyperparameters: {'n_estimators': 50, 'max_depth': 5}\n"
          ]
        }
      ],
      "source": [
        "\n",
        "# Print the best result\n",
        "print(f'Best trial accuracy: {study.best_trial.value}')\n",
        "print(f'Best hyperparameters: {study.best_trial.params}')"
      ]
    },
    {
      "cell_type": "code",
      "execution_count": null,
      "metadata": {
        "colab": {
          "base_uri": "https://localhost:8080/"
        },
        "id": "xKir2QTXwMWl",
        "outputId": "764fa049-4692-471b-e5e0-be5ea6b8a885"
      },
      "outputs": [
        {
          "name": "stdout",
          "output_type": "stream",
          "text": [
            "Test Accuracy with best hyperparameters: 0.74\n"
          ]
        }
      ],
      "source": [
        "from sklearn.metrics import accuracy_score\n",
        "\n",
        "# Train a RandomForestClassifier using the best hyperparameters from Optuna\n",
        "best_model = RandomForestClassifier(**study.best_trial.params, random_state=42)\n",
        "\n",
        "# Fit the model to the training data\n",
        "best_model.fit(X_train, y_train)\n",
        "\n",
        "# Make predictions on the test set\n",
        "y_pred = best_model.predict(X_test)\n",
        "\n",
        "# Calculate the accuracy on the test set\n",
        "test_accuracy = accuracy_score(y_test, y_pred)\n",
        "\n",
        "# Print the test accuracy\n",
        "print(f'Test Accuracy with best hyperparameters: {test_accuracy:.2f}')\n"
      ]
    },
    {
      "cell_type": "markdown",
      "metadata": {
        "id": "lnrumdGKxeIY"
      },
      "source": [
        "## Optuna Visualizations\n"
      ]
    },
    {
      "cell_type": "code",
      "execution_count": null,
      "metadata": {
        "id": "rX_l2VkXwPx4"
      },
      "outputs": [],
      "source": [
        "# For visualizations\n",
        "from optuna.visualization import plot_optimization_history, plot_parallel_coordinate, plot_slice, plot_contour, plot_param_importances"
      ]
    },
    {
      "cell_type": "code",
      "execution_count": null,
      "metadata": {
        "colab": {
          "base_uri": "https://localhost:8080/",
          "height": 542
        },
        "id": "G7gd9MyfxkyO",
        "outputId": "a4d3aa4b-c6bd-4fda-ebbd-77d92cad2031"
      },
      "outputs": [
        {
          "data": {
            "text/html": [
              "<html>\n",
              "<head><meta charset=\"utf-8\" /></head>\n",
              "<body>\n",
              "    <div>            <script src=\"https://cdnjs.cloudflare.com/ajax/libs/mathjax/2.7.5/MathJax.js?config=TeX-AMS-MML_SVG\"></script><script type=\"text/javascript\">if (window.MathJax && window.MathJax.Hub && window.MathJax.Hub.Config) {window.MathJax.Hub.Config({SVG: {font: \"STIX-Web\"}});}</script>                <script type=\"text/javascript\">window.PlotlyConfig = {MathJaxConfig: 'local'};</script>\n",
              "        <script charset=\"utf-8\" src=\"https://cdn.plot.ly/plotly-2.35.2.min.js\"></script>                <div id=\"6be2ba78-9370-4a0b-8d7b-a5f308b93a16\" class=\"plotly-graph-div\" style=\"height:525px; width:100%;\"></div>            <script type=\"text/javascript\">                                    window.PLOTLYENV=window.PLOTLYENV || {};                                    if (document.getElementById(\"6be2ba78-9370-4a0b-8d7b-a5f308b93a16\")) {                    Plotly.newPlot(                        \"6be2ba78-9370-4a0b-8d7b-a5f308b93a16\",                        [{\"mode\":\"markers\",\"name\":\"Objective Value\",\"x\":[0,1,2,3,4,5,6,7,8,9,10,11,12,13,14,15],\"y\":[0.7690875232774674,0.7672253258845437,0.7728119180633147,0.7653631284916201,0.7690875232774674,0.7579143389199254,0.7653631284916201,0.7728119180633147,0.7728119180633147,0.7709497206703911,0.7728119180633147,0.7728119180633147,0.7690875232774674,0.7746741154562384,0.7616387337057727,0.7709497206703911],\"type\":\"scatter\"},{\"mode\":\"lines\",\"name\":\"Best Value\",\"x\":[0,1,2,3,4,5,6,7,8,9,10,11,12,13,14,15],\"y\":[0.7690875232774674,0.7690875232774674,0.7728119180633147,0.7728119180633147,0.7728119180633147,0.7728119180633147,0.7728119180633147,0.7728119180633147,0.7728119180633147,0.7728119180633147,0.7728119180633147,0.7728119180633147,0.7728119180633147,0.7746741154562384,0.7746741154562384,0.7746741154562384],\"type\":\"scatter\"},{\"marker\":{\"color\":\"#cccccc\"},\"mode\":\"markers\",\"name\":\"Infeasible Trial\",\"showlegend\":false,\"x\":[],\"y\":[],\"type\":\"scatter\"}],                        {\"title\":{\"text\":\"Optimization History Plot\"},\"xaxis\":{\"title\":{\"text\":\"Trial\"}},\"yaxis\":{\"title\":{\"text\":\"Objective Value\"}},\"template\":{\"data\":{\"histogram2dcontour\":[{\"type\":\"histogram2dcontour\",\"colorbar\":{\"outlinewidth\":0,\"ticks\":\"\"},\"colorscale\":[[0.0,\"#0d0887\"],[0.1111111111111111,\"#46039f\"],[0.2222222222222222,\"#7201a8\"],[0.3333333333333333,\"#9c179e\"],[0.4444444444444444,\"#bd3786\"],[0.5555555555555556,\"#d8576b\"],[0.6666666666666666,\"#ed7953\"],[0.7777777777777778,\"#fb9f3a\"],[0.8888888888888888,\"#fdca26\"],[1.0,\"#f0f921\"]]}],\"choropleth\":[{\"type\":\"choropleth\",\"colorbar\":{\"outlinewidth\":0,\"ticks\":\"\"}}],\"histogram2d\":[{\"type\":\"histogram2d\",\"colorbar\":{\"outlinewidth\":0,\"ticks\":\"\"},\"colorscale\":[[0.0,\"#0d0887\"],[0.1111111111111111,\"#46039f\"],[0.2222222222222222,\"#7201a8\"],[0.3333333333333333,\"#9c179e\"],[0.4444444444444444,\"#bd3786\"],[0.5555555555555556,\"#d8576b\"],[0.6666666666666666,\"#ed7953\"],[0.7777777777777778,\"#fb9f3a\"],[0.8888888888888888,\"#fdca26\"],[1.0,\"#f0f921\"]]}],\"heatmap\":[{\"type\":\"heatmap\",\"colorbar\":{\"outlinewidth\":0,\"ticks\":\"\"},\"colorscale\":[[0.0,\"#0d0887\"],[0.1111111111111111,\"#46039f\"],[0.2222222222222222,\"#7201a8\"],[0.3333333333333333,\"#9c179e\"],[0.4444444444444444,\"#bd3786\"],[0.5555555555555556,\"#d8576b\"],[0.6666666666666666,\"#ed7953\"],[0.7777777777777778,\"#fb9f3a\"],[0.8888888888888888,\"#fdca26\"],[1.0,\"#f0f921\"]]}],\"heatmapgl\":[{\"type\":\"heatmapgl\",\"colorbar\":{\"outlinewidth\":0,\"ticks\":\"\"},\"colorscale\":[[0.0,\"#0d0887\"],[0.1111111111111111,\"#46039f\"],[0.2222222222222222,\"#7201a8\"],[0.3333333333333333,\"#9c179e\"],[0.4444444444444444,\"#bd3786\"],[0.5555555555555556,\"#d8576b\"],[0.6666666666666666,\"#ed7953\"],[0.7777777777777778,\"#fb9f3a\"],[0.8888888888888888,\"#fdca26\"],[1.0,\"#f0f921\"]]}],\"contourcarpet\":[{\"type\":\"contourcarpet\",\"colorbar\":{\"outlinewidth\":0,\"ticks\":\"\"}}],\"contour\":[{\"type\":\"contour\",\"colorbar\":{\"outlinewidth\":0,\"ticks\":\"\"},\"colorscale\":[[0.0,\"#0d0887\"],[0.1111111111111111,\"#46039f\"],[0.2222222222222222,\"#7201a8\"],[0.3333333333333333,\"#9c179e\"],[0.4444444444444444,\"#bd3786\"],[0.5555555555555556,\"#d8576b\"],[0.6666666666666666,\"#ed7953\"],[0.7777777777777778,\"#fb9f3a\"],[0.8888888888888888,\"#fdca26\"],[1.0,\"#f0f921\"]]}],\"surface\":[{\"type\":\"surface\",\"colorbar\":{\"outlinewidth\":0,\"ticks\":\"\"},\"colorscale\":[[0.0,\"#0d0887\"],[0.1111111111111111,\"#46039f\"],[0.2222222222222222,\"#7201a8\"],[0.3333333333333333,\"#9c179e\"],[0.4444444444444444,\"#bd3786\"],[0.5555555555555556,\"#d8576b\"],[0.6666666666666666,\"#ed7953\"],[0.7777777777777778,\"#fb9f3a\"],[0.8888888888888888,\"#fdca26\"],[1.0,\"#f0f921\"]]}],\"mesh3d\":[{\"type\":\"mesh3d\",\"colorbar\":{\"outlinewidth\":0,\"ticks\":\"\"}}],\"scatter\":[{\"fillpattern\":{\"fillmode\":\"overlay\",\"size\":10,\"solidity\":0.2},\"type\":\"scatter\"}],\"parcoords\":[{\"type\":\"parcoords\",\"line\":{\"colorbar\":{\"outlinewidth\":0,\"ticks\":\"\"}}}],\"scatterpolargl\":[{\"type\":\"scatterpolargl\",\"marker\":{\"colorbar\":{\"outlinewidth\":0,\"ticks\":\"\"}}}],\"bar\":[{\"error_x\":{\"color\":\"#2a3f5f\"},\"error_y\":{\"color\":\"#2a3f5f\"},\"marker\":{\"line\":{\"color\":\"#E5ECF6\",\"width\":0.5},\"pattern\":{\"fillmode\":\"overlay\",\"size\":10,\"solidity\":0.2}},\"type\":\"bar\"}],\"scattergeo\":[{\"type\":\"scattergeo\",\"marker\":{\"colorbar\":{\"outlinewidth\":0,\"ticks\":\"\"}}}],\"scatterpolar\":[{\"type\":\"scatterpolar\",\"marker\":{\"colorbar\":{\"outlinewidth\":0,\"ticks\":\"\"}}}],\"histogram\":[{\"marker\":{\"pattern\":{\"fillmode\":\"overlay\",\"size\":10,\"solidity\":0.2}},\"type\":\"histogram\"}],\"scattergl\":[{\"type\":\"scattergl\",\"marker\":{\"colorbar\":{\"outlinewidth\":0,\"ticks\":\"\"}}}],\"scatter3d\":[{\"type\":\"scatter3d\",\"line\":{\"colorbar\":{\"outlinewidth\":0,\"ticks\":\"\"}},\"marker\":{\"colorbar\":{\"outlinewidth\":0,\"ticks\":\"\"}}}],\"scattermapbox\":[{\"type\":\"scattermapbox\",\"marker\":{\"colorbar\":{\"outlinewidth\":0,\"ticks\":\"\"}}}],\"scatterternary\":[{\"type\":\"scatterternary\",\"marker\":{\"colorbar\":{\"outlinewidth\":0,\"ticks\":\"\"}}}],\"scattercarpet\":[{\"type\":\"scattercarpet\",\"marker\":{\"colorbar\":{\"outlinewidth\":0,\"ticks\":\"\"}}}],\"carpet\":[{\"aaxis\":{\"endlinecolor\":\"#2a3f5f\",\"gridcolor\":\"white\",\"linecolor\":\"white\",\"minorgridcolor\":\"white\",\"startlinecolor\":\"#2a3f5f\"},\"baxis\":{\"endlinecolor\":\"#2a3f5f\",\"gridcolor\":\"white\",\"linecolor\":\"white\",\"minorgridcolor\":\"white\",\"startlinecolor\":\"#2a3f5f\"},\"type\":\"carpet\"}],\"table\":[{\"cells\":{\"fill\":{\"color\":\"#EBF0F8\"},\"line\":{\"color\":\"white\"}},\"header\":{\"fill\":{\"color\":\"#C8D4E3\"},\"line\":{\"color\":\"white\"}},\"type\":\"table\"}],\"barpolar\":[{\"marker\":{\"line\":{\"color\":\"#E5ECF6\",\"width\":0.5},\"pattern\":{\"fillmode\":\"overlay\",\"size\":10,\"solidity\":0.2}},\"type\":\"barpolar\"}],\"pie\":[{\"automargin\":true,\"type\":\"pie\"}]},\"layout\":{\"autotypenumbers\":\"strict\",\"colorway\":[\"#636efa\",\"#EF553B\",\"#00cc96\",\"#ab63fa\",\"#FFA15A\",\"#19d3f3\",\"#FF6692\",\"#B6E880\",\"#FF97FF\",\"#FECB52\"],\"font\":{\"color\":\"#2a3f5f\"},\"hovermode\":\"closest\",\"hoverlabel\":{\"align\":\"left\"},\"paper_bgcolor\":\"white\",\"plot_bgcolor\":\"#E5ECF6\",\"polar\":{\"bgcolor\":\"#E5ECF6\",\"angularaxis\":{\"gridcolor\":\"white\",\"linecolor\":\"white\",\"ticks\":\"\"},\"radialaxis\":{\"gridcolor\":\"white\",\"linecolor\":\"white\",\"ticks\":\"\"}},\"ternary\":{\"bgcolor\":\"#E5ECF6\",\"aaxis\":{\"gridcolor\":\"white\",\"linecolor\":\"white\",\"ticks\":\"\"},\"baxis\":{\"gridcolor\":\"white\",\"linecolor\":\"white\",\"ticks\":\"\"},\"caxis\":{\"gridcolor\":\"white\",\"linecolor\":\"white\",\"ticks\":\"\"}},\"coloraxis\":{\"colorbar\":{\"outlinewidth\":0,\"ticks\":\"\"}},\"colorscale\":{\"sequential\":[[0.0,\"#0d0887\"],[0.1111111111111111,\"#46039f\"],[0.2222222222222222,\"#7201a8\"],[0.3333333333333333,\"#9c179e\"],[0.4444444444444444,\"#bd3786\"],[0.5555555555555556,\"#d8576b\"],[0.6666666666666666,\"#ed7953\"],[0.7777777777777778,\"#fb9f3a\"],[0.8888888888888888,\"#fdca26\"],[1.0,\"#f0f921\"]],\"sequentialminus\":[[0.0,\"#0d0887\"],[0.1111111111111111,\"#46039f\"],[0.2222222222222222,\"#7201a8\"],[0.3333333333333333,\"#9c179e\"],[0.4444444444444444,\"#bd3786\"],[0.5555555555555556,\"#d8576b\"],[0.6666666666666666,\"#ed7953\"],[0.7777777777777778,\"#fb9f3a\"],[0.8888888888888888,\"#fdca26\"],[1.0,\"#f0f921\"]],\"diverging\":[[0,\"#8e0152\"],[0.1,\"#c51b7d\"],[0.2,\"#de77ae\"],[0.3,\"#f1b6da\"],[0.4,\"#fde0ef\"],[0.5,\"#f7f7f7\"],[0.6,\"#e6f5d0\"],[0.7,\"#b8e186\"],[0.8,\"#7fbc41\"],[0.9,\"#4d9221\"],[1,\"#276419\"]]},\"xaxis\":{\"gridcolor\":\"white\",\"linecolor\":\"white\",\"ticks\":\"\",\"title\":{\"standoff\":15},\"zerolinecolor\":\"white\",\"automargin\":true,\"zerolinewidth\":2},\"yaxis\":{\"gridcolor\":\"white\",\"linecolor\":\"white\",\"ticks\":\"\",\"title\":{\"standoff\":15},\"zerolinecolor\":\"white\",\"automargin\":true,\"zerolinewidth\":2},\"scene\":{\"xaxis\":{\"backgroundcolor\":\"#E5ECF6\",\"gridcolor\":\"white\",\"linecolor\":\"white\",\"showbackground\":true,\"ticks\":\"\",\"zerolinecolor\":\"white\",\"gridwidth\":2},\"yaxis\":{\"backgroundcolor\":\"#E5ECF6\",\"gridcolor\":\"white\",\"linecolor\":\"white\",\"showbackground\":true,\"ticks\":\"\",\"zerolinecolor\":\"white\",\"gridwidth\":2},\"zaxis\":{\"backgroundcolor\":\"#E5ECF6\",\"gridcolor\":\"white\",\"linecolor\":\"white\",\"showbackground\":true,\"ticks\":\"\",\"zerolinecolor\":\"white\",\"gridwidth\":2}},\"shapedefaults\":{\"line\":{\"color\":\"#2a3f5f\"}},\"annotationdefaults\":{\"arrowcolor\":\"#2a3f5f\",\"arrowhead\":0,\"arrowwidth\":1},\"geo\":{\"bgcolor\":\"white\",\"landcolor\":\"#E5ECF6\",\"subunitcolor\":\"white\",\"showland\":true,\"showlakes\":true,\"lakecolor\":\"white\"},\"title\":{\"x\":0.05},\"mapbox\":{\"style\":\"light\"}}}},                        {\"responsive\": true}                    ).then(function(){\n",
              "                            \n",
              "var gd = document.getElementById('6be2ba78-9370-4a0b-8d7b-a5f308b93a16');\n",
              "var x = new MutationObserver(function (mutations, observer) {{\n",
              "        var display = window.getComputedStyle(gd).display;\n",
              "        if (!display || display === 'none') {{\n",
              "            console.log([gd, 'removed!']);\n",
              "            Plotly.purge(gd);\n",
              "            observer.disconnect();\n",
              "        }}\n",
              "}});\n",
              "\n",
              "// Listen for the removal of the full notebook cells\n",
              "var notebookContainer = gd.closest('#notebook-container');\n",
              "if (notebookContainer) {{\n",
              "    x.observe(notebookContainer, {childList: true});\n",
              "}}\n",
              "\n",
              "// Listen for the clearing of the current output cell\n",
              "var outputEl = gd.closest('.output');\n",
              "if (outputEl) {{\n",
              "    x.observe(outputEl, {childList: true});\n",
              "}}\n",
              "\n",
              "                        })                };                            </script>        </div>\n",
              "</body>\n",
              "</html>"
            ]
          },
          "metadata": {},
          "output_type": "display_data"
        }
      ],
      "source": [
        "# 1. Optimization History\n",
        "plot_optimization_history(study).show()"
      ]
    },
    {
      "cell_type": "code",
      "execution_count": null,
      "metadata": {
        "colab": {
          "base_uri": "https://localhost:8080/",
          "height": 542
        },
        "id": "GorTqZlHxnOC",
        "outputId": "929e75b6-088c-4923-bfe9-6bb17a1827cf"
      },
      "outputs": [
        {
          "data": {
            "text/html": [
              "<html>\n",
              "<head><meta charset=\"utf-8\" /></head>\n",
              "<body>\n",
              "    <div>            <script src=\"https://cdnjs.cloudflare.com/ajax/libs/mathjax/2.7.5/MathJax.js?config=TeX-AMS-MML_SVG\"></script><script type=\"text/javascript\">if (window.MathJax && window.MathJax.Hub && window.MathJax.Hub.Config) {window.MathJax.Hub.Config({SVG: {font: \"STIX-Web\"}});}</script>                <script type=\"text/javascript\">window.PlotlyConfig = {MathJaxConfig: 'local'};</script>\n",
              "        <script charset=\"utf-8\" src=\"https://cdn.plot.ly/plotly-2.35.2.min.js\"></script>                <div id=\"aa1b35c1-bf48-4c3a-82b7-26358922da6a\" class=\"plotly-graph-div\" style=\"height:525px; width:100%;\"></div>            <script type=\"text/javascript\">                                    window.PLOTLYENV=window.PLOTLYENV || {};                                    if (document.getElementById(\"aa1b35c1-bf48-4c3a-82b7-26358922da6a\")) {                    Plotly.newPlot(                        \"aa1b35c1-bf48-4c3a-82b7-26358922da6a\",                        [{\"dimensions\":[{\"label\":\"Objective Value\",\"range\":[0.7579143389199254,0.7746741154562384],\"values\":[0.7690875232774674,0.7672253258845437,0.7728119180633147,0.7653631284916201,0.7690875232774674,0.7579143389199254,0.7653631284916201,0.7728119180633147,0.7728119180633147,0.7709497206703911,0.7728119180633147,0.7728119180633147,0.7690875232774674,0.7746741154562384,0.7616387337057727,0.7709497206703911]},{\"label\":\"max_depth\",\"range\":[5,20],\"values\":[5,10,15,15,20,10,5,20,15,10,20,15,5,5,10,20]},{\"label\":\"n_estimators\",\"range\":[50,200],\"values\":[100,150,50,100,100,50,150,150,150,200,200,200,200,50,100,50]}],\"labelangle\":30,\"labelside\":\"bottom\",\"line\":{\"color\":[0.7690875232774674,0.7672253258845437,0.7728119180633147,0.7653631284916201,0.7690875232774674,0.7579143389199254,0.7653631284916201,0.7728119180633147,0.7728119180633147,0.7709497206703911,0.7728119180633147,0.7728119180633147,0.7690875232774674,0.7746741154562384,0.7616387337057727,0.7709497206703911],\"colorbar\":{\"title\":{\"text\":\"Objective Value\"}},\"colorscale\":[[0.0,\"rgb(247,251,255)\"],[0.125,\"rgb(222,235,247)\"],[0.25,\"rgb(198,219,239)\"],[0.375,\"rgb(158,202,225)\"],[0.5,\"rgb(107,174,214)\"],[0.625,\"rgb(66,146,198)\"],[0.75,\"rgb(33,113,181)\"],[0.875,\"rgb(8,81,156)\"],[1.0,\"rgb(8,48,107)\"]],\"reversescale\":false,\"showscale\":true},\"type\":\"parcoords\"}],                        {\"title\":{\"text\":\"Parallel Coordinate Plot\"},\"template\":{\"data\":{\"histogram2dcontour\":[{\"type\":\"histogram2dcontour\",\"colorbar\":{\"outlinewidth\":0,\"ticks\":\"\"},\"colorscale\":[[0.0,\"#0d0887\"],[0.1111111111111111,\"#46039f\"],[0.2222222222222222,\"#7201a8\"],[0.3333333333333333,\"#9c179e\"],[0.4444444444444444,\"#bd3786\"],[0.5555555555555556,\"#d8576b\"],[0.6666666666666666,\"#ed7953\"],[0.7777777777777778,\"#fb9f3a\"],[0.8888888888888888,\"#fdca26\"],[1.0,\"#f0f921\"]]}],\"choropleth\":[{\"type\":\"choropleth\",\"colorbar\":{\"outlinewidth\":0,\"ticks\":\"\"}}],\"histogram2d\":[{\"type\":\"histogram2d\",\"colorbar\":{\"outlinewidth\":0,\"ticks\":\"\"},\"colorscale\":[[0.0,\"#0d0887\"],[0.1111111111111111,\"#46039f\"],[0.2222222222222222,\"#7201a8\"],[0.3333333333333333,\"#9c179e\"],[0.4444444444444444,\"#bd3786\"],[0.5555555555555556,\"#d8576b\"],[0.6666666666666666,\"#ed7953\"],[0.7777777777777778,\"#fb9f3a\"],[0.8888888888888888,\"#fdca26\"],[1.0,\"#f0f921\"]]}],\"heatmap\":[{\"type\":\"heatmap\",\"colorbar\":{\"outlinewidth\":0,\"ticks\":\"\"},\"colorscale\":[[0.0,\"#0d0887\"],[0.1111111111111111,\"#46039f\"],[0.2222222222222222,\"#7201a8\"],[0.3333333333333333,\"#9c179e\"],[0.4444444444444444,\"#bd3786\"],[0.5555555555555556,\"#d8576b\"],[0.6666666666666666,\"#ed7953\"],[0.7777777777777778,\"#fb9f3a\"],[0.8888888888888888,\"#fdca26\"],[1.0,\"#f0f921\"]]}],\"heatmapgl\":[{\"type\":\"heatmapgl\",\"colorbar\":{\"outlinewidth\":0,\"ticks\":\"\"},\"colorscale\":[[0.0,\"#0d0887\"],[0.1111111111111111,\"#46039f\"],[0.2222222222222222,\"#7201a8\"],[0.3333333333333333,\"#9c179e\"],[0.4444444444444444,\"#bd3786\"],[0.5555555555555556,\"#d8576b\"],[0.6666666666666666,\"#ed7953\"],[0.7777777777777778,\"#fb9f3a\"],[0.8888888888888888,\"#fdca26\"],[1.0,\"#f0f921\"]]}],\"contourcarpet\":[{\"type\":\"contourcarpet\",\"colorbar\":{\"outlinewidth\":0,\"ticks\":\"\"}}],\"contour\":[{\"type\":\"contour\",\"colorbar\":{\"outlinewidth\":0,\"ticks\":\"\"},\"colorscale\":[[0.0,\"#0d0887\"],[0.1111111111111111,\"#46039f\"],[0.2222222222222222,\"#7201a8\"],[0.3333333333333333,\"#9c179e\"],[0.4444444444444444,\"#bd3786\"],[0.5555555555555556,\"#d8576b\"],[0.6666666666666666,\"#ed7953\"],[0.7777777777777778,\"#fb9f3a\"],[0.8888888888888888,\"#fdca26\"],[1.0,\"#f0f921\"]]}],\"surface\":[{\"type\":\"surface\",\"colorbar\":{\"outlinewidth\":0,\"ticks\":\"\"},\"colorscale\":[[0.0,\"#0d0887\"],[0.1111111111111111,\"#46039f\"],[0.2222222222222222,\"#7201a8\"],[0.3333333333333333,\"#9c179e\"],[0.4444444444444444,\"#bd3786\"],[0.5555555555555556,\"#d8576b\"],[0.6666666666666666,\"#ed7953\"],[0.7777777777777778,\"#fb9f3a\"],[0.8888888888888888,\"#fdca26\"],[1.0,\"#f0f921\"]]}],\"mesh3d\":[{\"type\":\"mesh3d\",\"colorbar\":{\"outlinewidth\":0,\"ticks\":\"\"}}],\"scatter\":[{\"fillpattern\":{\"fillmode\":\"overlay\",\"size\":10,\"solidity\":0.2},\"type\":\"scatter\"}],\"parcoords\":[{\"type\":\"parcoords\",\"line\":{\"colorbar\":{\"outlinewidth\":0,\"ticks\":\"\"}}}],\"scatterpolargl\":[{\"type\":\"scatterpolargl\",\"marker\":{\"colorbar\":{\"outlinewidth\":0,\"ticks\":\"\"}}}],\"bar\":[{\"error_x\":{\"color\":\"#2a3f5f\"},\"error_y\":{\"color\":\"#2a3f5f\"},\"marker\":{\"line\":{\"color\":\"#E5ECF6\",\"width\":0.5},\"pattern\":{\"fillmode\":\"overlay\",\"size\":10,\"solidity\":0.2}},\"type\":\"bar\"}],\"scattergeo\":[{\"type\":\"scattergeo\",\"marker\":{\"colorbar\":{\"outlinewidth\":0,\"ticks\":\"\"}}}],\"scatterpolar\":[{\"type\":\"scatterpolar\",\"marker\":{\"colorbar\":{\"outlinewidth\":0,\"ticks\":\"\"}}}],\"histogram\":[{\"marker\":{\"pattern\":{\"fillmode\":\"overlay\",\"size\":10,\"solidity\":0.2}},\"type\":\"histogram\"}],\"scattergl\":[{\"type\":\"scattergl\",\"marker\":{\"colorbar\":{\"outlinewidth\":0,\"ticks\":\"\"}}}],\"scatter3d\":[{\"type\":\"scatter3d\",\"line\":{\"colorbar\":{\"outlinewidth\":0,\"ticks\":\"\"}},\"marker\":{\"colorbar\":{\"outlinewidth\":0,\"ticks\":\"\"}}}],\"scattermapbox\":[{\"type\":\"scattermapbox\",\"marker\":{\"colorbar\":{\"outlinewidth\":0,\"ticks\":\"\"}}}],\"scatterternary\":[{\"type\":\"scatterternary\",\"marker\":{\"colorbar\":{\"outlinewidth\":0,\"ticks\":\"\"}}}],\"scattercarpet\":[{\"type\":\"scattercarpet\",\"marker\":{\"colorbar\":{\"outlinewidth\":0,\"ticks\":\"\"}}}],\"carpet\":[{\"aaxis\":{\"endlinecolor\":\"#2a3f5f\",\"gridcolor\":\"white\",\"linecolor\":\"white\",\"minorgridcolor\":\"white\",\"startlinecolor\":\"#2a3f5f\"},\"baxis\":{\"endlinecolor\":\"#2a3f5f\",\"gridcolor\":\"white\",\"linecolor\":\"white\",\"minorgridcolor\":\"white\",\"startlinecolor\":\"#2a3f5f\"},\"type\":\"carpet\"}],\"table\":[{\"cells\":{\"fill\":{\"color\":\"#EBF0F8\"},\"line\":{\"color\":\"white\"}},\"header\":{\"fill\":{\"color\":\"#C8D4E3\"},\"line\":{\"color\":\"white\"}},\"type\":\"table\"}],\"barpolar\":[{\"marker\":{\"line\":{\"color\":\"#E5ECF6\",\"width\":0.5},\"pattern\":{\"fillmode\":\"overlay\",\"size\":10,\"solidity\":0.2}},\"type\":\"barpolar\"}],\"pie\":[{\"automargin\":true,\"type\":\"pie\"}]},\"layout\":{\"autotypenumbers\":\"strict\",\"colorway\":[\"#636efa\",\"#EF553B\",\"#00cc96\",\"#ab63fa\",\"#FFA15A\",\"#19d3f3\",\"#FF6692\",\"#B6E880\",\"#FF97FF\",\"#FECB52\"],\"font\":{\"color\":\"#2a3f5f\"},\"hovermode\":\"closest\",\"hoverlabel\":{\"align\":\"left\"},\"paper_bgcolor\":\"white\",\"plot_bgcolor\":\"#E5ECF6\",\"polar\":{\"bgcolor\":\"#E5ECF6\",\"angularaxis\":{\"gridcolor\":\"white\",\"linecolor\":\"white\",\"ticks\":\"\"},\"radialaxis\":{\"gridcolor\":\"white\",\"linecolor\":\"white\",\"ticks\":\"\"}},\"ternary\":{\"bgcolor\":\"#E5ECF6\",\"aaxis\":{\"gridcolor\":\"white\",\"linecolor\":\"white\",\"ticks\":\"\"},\"baxis\":{\"gridcolor\":\"white\",\"linecolor\":\"white\",\"ticks\":\"\"},\"caxis\":{\"gridcolor\":\"white\",\"linecolor\":\"white\",\"ticks\":\"\"}},\"coloraxis\":{\"colorbar\":{\"outlinewidth\":0,\"ticks\":\"\"}},\"colorscale\":{\"sequential\":[[0.0,\"#0d0887\"],[0.1111111111111111,\"#46039f\"],[0.2222222222222222,\"#7201a8\"],[0.3333333333333333,\"#9c179e\"],[0.4444444444444444,\"#bd3786\"],[0.5555555555555556,\"#d8576b\"],[0.6666666666666666,\"#ed7953\"],[0.7777777777777778,\"#fb9f3a\"],[0.8888888888888888,\"#fdca26\"],[1.0,\"#f0f921\"]],\"sequentialminus\":[[0.0,\"#0d0887\"],[0.1111111111111111,\"#46039f\"],[0.2222222222222222,\"#7201a8\"],[0.3333333333333333,\"#9c179e\"],[0.4444444444444444,\"#bd3786\"],[0.5555555555555556,\"#d8576b\"],[0.6666666666666666,\"#ed7953\"],[0.7777777777777778,\"#fb9f3a\"],[0.8888888888888888,\"#fdca26\"],[1.0,\"#f0f921\"]],\"diverging\":[[0,\"#8e0152\"],[0.1,\"#c51b7d\"],[0.2,\"#de77ae\"],[0.3,\"#f1b6da\"],[0.4,\"#fde0ef\"],[0.5,\"#f7f7f7\"],[0.6,\"#e6f5d0\"],[0.7,\"#b8e186\"],[0.8,\"#7fbc41\"],[0.9,\"#4d9221\"],[1,\"#276419\"]]},\"xaxis\":{\"gridcolor\":\"white\",\"linecolor\":\"white\",\"ticks\":\"\",\"title\":{\"standoff\":15},\"zerolinecolor\":\"white\",\"automargin\":true,\"zerolinewidth\":2},\"yaxis\":{\"gridcolor\":\"white\",\"linecolor\":\"white\",\"ticks\":\"\",\"title\":{\"standoff\":15},\"zerolinecolor\":\"white\",\"automargin\":true,\"zerolinewidth\":2},\"scene\":{\"xaxis\":{\"backgroundcolor\":\"#E5ECF6\",\"gridcolor\":\"white\",\"linecolor\":\"white\",\"showbackground\":true,\"ticks\":\"\",\"zerolinecolor\":\"white\",\"gridwidth\":2},\"yaxis\":{\"backgroundcolor\":\"#E5ECF6\",\"gridcolor\":\"white\",\"linecolor\":\"white\",\"showbackground\":true,\"ticks\":\"\",\"zerolinecolor\":\"white\",\"gridwidth\":2},\"zaxis\":{\"backgroundcolor\":\"#E5ECF6\",\"gridcolor\":\"white\",\"linecolor\":\"white\",\"showbackground\":true,\"ticks\":\"\",\"zerolinecolor\":\"white\",\"gridwidth\":2}},\"shapedefaults\":{\"line\":{\"color\":\"#2a3f5f\"}},\"annotationdefaults\":{\"arrowcolor\":\"#2a3f5f\",\"arrowhead\":0,\"arrowwidth\":1},\"geo\":{\"bgcolor\":\"white\",\"landcolor\":\"#E5ECF6\",\"subunitcolor\":\"white\",\"showland\":true,\"showlakes\":true,\"lakecolor\":\"white\"},\"title\":{\"x\":0.05},\"mapbox\":{\"style\":\"light\"}}}},                        {\"responsive\": true}                    ).then(function(){\n",
              "                            \n",
              "var gd = document.getElementById('aa1b35c1-bf48-4c3a-82b7-26358922da6a');\n",
              "var x = new MutationObserver(function (mutations, observer) {{\n",
              "        var display = window.getComputedStyle(gd).display;\n",
              "        if (!display || display === 'none') {{\n",
              "            console.log([gd, 'removed!']);\n",
              "            Plotly.purge(gd);\n",
              "            observer.disconnect();\n",
              "        }}\n",
              "}});\n",
              "\n",
              "// Listen for the removal of the full notebook cells\n",
              "var notebookContainer = gd.closest('#notebook-container');\n",
              "if (notebookContainer) {{\n",
              "    x.observe(notebookContainer, {childList: true});\n",
              "}}\n",
              "\n",
              "// Listen for the clearing of the current output cell\n",
              "var outputEl = gd.closest('.output');\n",
              "if (outputEl) {{\n",
              "    x.observe(outputEl, {childList: true});\n",
              "}}\n",
              "\n",
              "                        })                };                            </script>        </div>\n",
              "</body>\n",
              "</html>"
            ]
          },
          "metadata": {},
          "output_type": "display_data"
        }
      ],
      "source": [
        "# 2. Parallel Coordinates Plot\n",
        "plot_parallel_coordinate(study).show()"
      ]
    },
    {
      "cell_type": "code",
      "execution_count": null,
      "metadata": {
        "colab": {
          "base_uri": "https://localhost:8080/",
          "height": 542
        },
        "id": "W7BuiumYx9-N",
        "outputId": "5b62a6c4-94c6-4c60-ecf0-1f6219a1428f"
      },
      "outputs": [
        {
          "data": {
            "text/html": [
              "<html>\n",
              "<head><meta charset=\"utf-8\" /></head>\n",
              "<body>\n",
              "    <div>            <script src=\"https://cdnjs.cloudflare.com/ajax/libs/mathjax/2.7.5/MathJax.js?config=TeX-AMS-MML_SVG\"></script><script type=\"text/javascript\">if (window.MathJax && window.MathJax.Hub && window.MathJax.Hub.Config) {window.MathJax.Hub.Config({SVG: {font: \"STIX-Web\"}});}</script>                <script type=\"text/javascript\">window.PlotlyConfig = {MathJaxConfig: 'local'};</script>\n",
              "        <script charset=\"utf-8\" src=\"https://cdn.plot.ly/plotly-2.35.2.min.js\"></script>                <div id=\"27eed19b-7f75-4486-a266-c4b190d701f2\" class=\"plotly-graph-div\" style=\"height:525px; width:100%;\"></div>            <script type=\"text/javascript\">                                    window.PLOTLYENV=window.PLOTLYENV || {};                                    if (document.getElementById(\"27eed19b-7f75-4486-a266-c4b190d701f2\")) {                    Plotly.newPlot(                        \"27eed19b-7f75-4486-a266-c4b190d701f2\",                        [{\"marker\":{\"color\":[0,1,2,3,4,5,6,7,8,9,10,11,12,13,14,15],\"colorbar\":{\"title\":{\"text\":\"Trial\"},\"x\":1.0,\"xpad\":40},\"colorscale\":[[0.0,\"rgb(247,251,255)\"],[0.125,\"rgb(222,235,247)\"],[0.25,\"rgb(198,219,239)\"],[0.375,\"rgb(158,202,225)\"],[0.5,\"rgb(107,174,214)\"],[0.625,\"rgb(66,146,198)\"],[0.75,\"rgb(33,113,181)\"],[0.875,\"rgb(8,81,156)\"],[1.0,\"rgb(8,48,107)\"]],\"line\":{\"color\":\"Grey\",\"width\":0.5},\"showscale\":true},\"mode\":\"markers\",\"name\":\"Feasible Trial\",\"showlegend\":false,\"x\":[5,10,15,15,20,10,5,20,15,10,20,15,5,5,10,20],\"y\":[0.7690875232774674,0.7672253258845437,0.7728119180633147,0.7653631284916201,0.7690875232774674,0.7579143389199254,0.7653631284916201,0.7728119180633147,0.7728119180633147,0.7709497206703911,0.7728119180633147,0.7728119180633147,0.7690875232774674,0.7746741154562384,0.7616387337057727,0.7709497206703911],\"type\":\"scatter\",\"xaxis\":\"x\",\"yaxis\":\"y\"},{\"marker\":{\"color\":[0,1,2,3,4,5,6,7,8,9,10,11,12,13,14,15],\"colorbar\":{\"title\":{\"text\":\"Trial\"},\"x\":1.0,\"xpad\":40},\"colorscale\":[[0.0,\"rgb(247,251,255)\"],[0.125,\"rgb(222,235,247)\"],[0.25,\"rgb(198,219,239)\"],[0.375,\"rgb(158,202,225)\"],[0.5,\"rgb(107,174,214)\"],[0.625,\"rgb(66,146,198)\"],[0.75,\"rgb(33,113,181)\"],[0.875,\"rgb(8,81,156)\"],[1.0,\"rgb(8,48,107)\"]],\"line\":{\"color\":\"Grey\",\"width\":0.5},\"showscale\":false},\"mode\":\"markers\",\"name\":\"Feasible Trial\",\"showlegend\":false,\"x\":[100,150,50,100,100,50,150,150,150,200,200,200,200,50,100,50],\"y\":[0.7690875232774674,0.7672253258845437,0.7728119180633147,0.7653631284916201,0.7690875232774674,0.7579143389199254,0.7653631284916201,0.7728119180633147,0.7728119180633147,0.7709497206703911,0.7728119180633147,0.7728119180633147,0.7690875232774674,0.7746741154562384,0.7616387337057727,0.7709497206703911],\"type\":\"scatter\",\"xaxis\":\"x2\",\"yaxis\":\"y2\"}],                        {\"template\":{\"data\":{\"histogram2dcontour\":[{\"type\":\"histogram2dcontour\",\"colorbar\":{\"outlinewidth\":0,\"ticks\":\"\"},\"colorscale\":[[0.0,\"#0d0887\"],[0.1111111111111111,\"#46039f\"],[0.2222222222222222,\"#7201a8\"],[0.3333333333333333,\"#9c179e\"],[0.4444444444444444,\"#bd3786\"],[0.5555555555555556,\"#d8576b\"],[0.6666666666666666,\"#ed7953\"],[0.7777777777777778,\"#fb9f3a\"],[0.8888888888888888,\"#fdca26\"],[1.0,\"#f0f921\"]]}],\"choropleth\":[{\"type\":\"choropleth\",\"colorbar\":{\"outlinewidth\":0,\"ticks\":\"\"}}],\"histogram2d\":[{\"type\":\"histogram2d\",\"colorbar\":{\"outlinewidth\":0,\"ticks\":\"\"},\"colorscale\":[[0.0,\"#0d0887\"],[0.1111111111111111,\"#46039f\"],[0.2222222222222222,\"#7201a8\"],[0.3333333333333333,\"#9c179e\"],[0.4444444444444444,\"#bd3786\"],[0.5555555555555556,\"#d8576b\"],[0.6666666666666666,\"#ed7953\"],[0.7777777777777778,\"#fb9f3a\"],[0.8888888888888888,\"#fdca26\"],[1.0,\"#f0f921\"]]}],\"heatmap\":[{\"type\":\"heatmap\",\"colorbar\":{\"outlinewidth\":0,\"ticks\":\"\"},\"colorscale\":[[0.0,\"#0d0887\"],[0.1111111111111111,\"#46039f\"],[0.2222222222222222,\"#7201a8\"],[0.3333333333333333,\"#9c179e\"],[0.4444444444444444,\"#bd3786\"],[0.5555555555555556,\"#d8576b\"],[0.6666666666666666,\"#ed7953\"],[0.7777777777777778,\"#fb9f3a\"],[0.8888888888888888,\"#fdca26\"],[1.0,\"#f0f921\"]]}],\"heatmapgl\":[{\"type\":\"heatmapgl\",\"colorbar\":{\"outlinewidth\":0,\"ticks\":\"\"},\"colorscale\":[[0.0,\"#0d0887\"],[0.1111111111111111,\"#46039f\"],[0.2222222222222222,\"#7201a8\"],[0.3333333333333333,\"#9c179e\"],[0.4444444444444444,\"#bd3786\"],[0.5555555555555556,\"#d8576b\"],[0.6666666666666666,\"#ed7953\"],[0.7777777777777778,\"#fb9f3a\"],[0.8888888888888888,\"#fdca26\"],[1.0,\"#f0f921\"]]}],\"contourcarpet\":[{\"type\":\"contourcarpet\",\"colorbar\":{\"outlinewidth\":0,\"ticks\":\"\"}}],\"contour\":[{\"type\":\"contour\",\"colorbar\":{\"outlinewidth\":0,\"ticks\":\"\"},\"colorscale\":[[0.0,\"#0d0887\"],[0.1111111111111111,\"#46039f\"],[0.2222222222222222,\"#7201a8\"],[0.3333333333333333,\"#9c179e\"],[0.4444444444444444,\"#bd3786\"],[0.5555555555555556,\"#d8576b\"],[0.6666666666666666,\"#ed7953\"],[0.7777777777777778,\"#fb9f3a\"],[0.8888888888888888,\"#fdca26\"],[1.0,\"#f0f921\"]]}],\"surface\":[{\"type\":\"surface\",\"colorbar\":{\"outlinewidth\":0,\"ticks\":\"\"},\"colorscale\":[[0.0,\"#0d0887\"],[0.1111111111111111,\"#46039f\"],[0.2222222222222222,\"#7201a8\"],[0.3333333333333333,\"#9c179e\"],[0.4444444444444444,\"#bd3786\"],[0.5555555555555556,\"#d8576b\"],[0.6666666666666666,\"#ed7953\"],[0.7777777777777778,\"#fb9f3a\"],[0.8888888888888888,\"#fdca26\"],[1.0,\"#f0f921\"]]}],\"mesh3d\":[{\"type\":\"mesh3d\",\"colorbar\":{\"outlinewidth\":0,\"ticks\":\"\"}}],\"scatter\":[{\"fillpattern\":{\"fillmode\":\"overlay\",\"size\":10,\"solidity\":0.2},\"type\":\"scatter\"}],\"parcoords\":[{\"type\":\"parcoords\",\"line\":{\"colorbar\":{\"outlinewidth\":0,\"ticks\":\"\"}}}],\"scatterpolargl\":[{\"type\":\"scatterpolargl\",\"marker\":{\"colorbar\":{\"outlinewidth\":0,\"ticks\":\"\"}}}],\"bar\":[{\"error_x\":{\"color\":\"#2a3f5f\"},\"error_y\":{\"color\":\"#2a3f5f\"},\"marker\":{\"line\":{\"color\":\"#E5ECF6\",\"width\":0.5},\"pattern\":{\"fillmode\":\"overlay\",\"size\":10,\"solidity\":0.2}},\"type\":\"bar\"}],\"scattergeo\":[{\"type\":\"scattergeo\",\"marker\":{\"colorbar\":{\"outlinewidth\":0,\"ticks\":\"\"}}}],\"scatterpolar\":[{\"type\":\"scatterpolar\",\"marker\":{\"colorbar\":{\"outlinewidth\":0,\"ticks\":\"\"}}}],\"histogram\":[{\"marker\":{\"pattern\":{\"fillmode\":\"overlay\",\"size\":10,\"solidity\":0.2}},\"type\":\"histogram\"}],\"scattergl\":[{\"type\":\"scattergl\",\"marker\":{\"colorbar\":{\"outlinewidth\":0,\"ticks\":\"\"}}}],\"scatter3d\":[{\"type\":\"scatter3d\",\"line\":{\"colorbar\":{\"outlinewidth\":0,\"ticks\":\"\"}},\"marker\":{\"colorbar\":{\"outlinewidth\":0,\"ticks\":\"\"}}}],\"scattermapbox\":[{\"type\":\"scattermapbox\",\"marker\":{\"colorbar\":{\"outlinewidth\":0,\"ticks\":\"\"}}}],\"scatterternary\":[{\"type\":\"scatterternary\",\"marker\":{\"colorbar\":{\"outlinewidth\":0,\"ticks\":\"\"}}}],\"scattercarpet\":[{\"type\":\"scattercarpet\",\"marker\":{\"colorbar\":{\"outlinewidth\":0,\"ticks\":\"\"}}}],\"carpet\":[{\"aaxis\":{\"endlinecolor\":\"#2a3f5f\",\"gridcolor\":\"white\",\"linecolor\":\"white\",\"minorgridcolor\":\"white\",\"startlinecolor\":\"#2a3f5f\"},\"baxis\":{\"endlinecolor\":\"#2a3f5f\",\"gridcolor\":\"white\",\"linecolor\":\"white\",\"minorgridcolor\":\"white\",\"startlinecolor\":\"#2a3f5f\"},\"type\":\"carpet\"}],\"table\":[{\"cells\":{\"fill\":{\"color\":\"#EBF0F8\"},\"line\":{\"color\":\"white\"}},\"header\":{\"fill\":{\"color\":\"#C8D4E3\"},\"line\":{\"color\":\"white\"}},\"type\":\"table\"}],\"barpolar\":[{\"marker\":{\"line\":{\"color\":\"#E5ECF6\",\"width\":0.5},\"pattern\":{\"fillmode\":\"overlay\",\"size\":10,\"solidity\":0.2}},\"type\":\"barpolar\"}],\"pie\":[{\"automargin\":true,\"type\":\"pie\"}]},\"layout\":{\"autotypenumbers\":\"strict\",\"colorway\":[\"#636efa\",\"#EF553B\",\"#00cc96\",\"#ab63fa\",\"#FFA15A\",\"#19d3f3\",\"#FF6692\",\"#B6E880\",\"#FF97FF\",\"#FECB52\"],\"font\":{\"color\":\"#2a3f5f\"},\"hovermode\":\"closest\",\"hoverlabel\":{\"align\":\"left\"},\"paper_bgcolor\":\"white\",\"plot_bgcolor\":\"#E5ECF6\",\"polar\":{\"bgcolor\":\"#E5ECF6\",\"angularaxis\":{\"gridcolor\":\"white\",\"linecolor\":\"white\",\"ticks\":\"\"},\"radialaxis\":{\"gridcolor\":\"white\",\"linecolor\":\"white\",\"ticks\":\"\"}},\"ternary\":{\"bgcolor\":\"#E5ECF6\",\"aaxis\":{\"gridcolor\":\"white\",\"linecolor\":\"white\",\"ticks\":\"\"},\"baxis\":{\"gridcolor\":\"white\",\"linecolor\":\"white\",\"ticks\":\"\"},\"caxis\":{\"gridcolor\":\"white\",\"linecolor\":\"white\",\"ticks\":\"\"}},\"coloraxis\":{\"colorbar\":{\"outlinewidth\":0,\"ticks\":\"\"}},\"colorscale\":{\"sequential\":[[0.0,\"#0d0887\"],[0.1111111111111111,\"#46039f\"],[0.2222222222222222,\"#7201a8\"],[0.3333333333333333,\"#9c179e\"],[0.4444444444444444,\"#bd3786\"],[0.5555555555555556,\"#d8576b\"],[0.6666666666666666,\"#ed7953\"],[0.7777777777777778,\"#fb9f3a\"],[0.8888888888888888,\"#fdca26\"],[1.0,\"#f0f921\"]],\"sequentialminus\":[[0.0,\"#0d0887\"],[0.1111111111111111,\"#46039f\"],[0.2222222222222222,\"#7201a8\"],[0.3333333333333333,\"#9c179e\"],[0.4444444444444444,\"#bd3786\"],[0.5555555555555556,\"#d8576b\"],[0.6666666666666666,\"#ed7953\"],[0.7777777777777778,\"#fb9f3a\"],[0.8888888888888888,\"#fdca26\"],[1.0,\"#f0f921\"]],\"diverging\":[[0,\"#8e0152\"],[0.1,\"#c51b7d\"],[0.2,\"#de77ae\"],[0.3,\"#f1b6da\"],[0.4,\"#fde0ef\"],[0.5,\"#f7f7f7\"],[0.6,\"#e6f5d0\"],[0.7,\"#b8e186\"],[0.8,\"#7fbc41\"],[0.9,\"#4d9221\"],[1,\"#276419\"]]},\"xaxis\":{\"gridcolor\":\"white\",\"linecolor\":\"white\",\"ticks\":\"\",\"title\":{\"standoff\":15},\"zerolinecolor\":\"white\",\"automargin\":true,\"zerolinewidth\":2},\"yaxis\":{\"gridcolor\":\"white\",\"linecolor\":\"white\",\"ticks\":\"\",\"title\":{\"standoff\":15},\"zerolinecolor\":\"white\",\"automargin\":true,\"zerolinewidth\":2},\"scene\":{\"xaxis\":{\"backgroundcolor\":\"#E5ECF6\",\"gridcolor\":\"white\",\"linecolor\":\"white\",\"showbackground\":true,\"ticks\":\"\",\"zerolinecolor\":\"white\",\"gridwidth\":2},\"yaxis\":{\"backgroundcolor\":\"#E5ECF6\",\"gridcolor\":\"white\",\"linecolor\":\"white\",\"showbackground\":true,\"ticks\":\"\",\"zerolinecolor\":\"white\",\"gridwidth\":2},\"zaxis\":{\"backgroundcolor\":\"#E5ECF6\",\"gridcolor\":\"white\",\"linecolor\":\"white\",\"showbackground\":true,\"ticks\":\"\",\"zerolinecolor\":\"white\",\"gridwidth\":2}},\"shapedefaults\":{\"line\":{\"color\":\"#2a3f5f\"}},\"annotationdefaults\":{\"arrowcolor\":\"#2a3f5f\",\"arrowhead\":0,\"arrowwidth\":1},\"geo\":{\"bgcolor\":\"white\",\"landcolor\":\"#E5ECF6\",\"subunitcolor\":\"white\",\"showland\":true,\"showlakes\":true,\"lakecolor\":\"white\"},\"title\":{\"x\":0.05},\"mapbox\":{\"style\":\"light\"}}},\"xaxis\":{\"anchor\":\"y\",\"domain\":[0.0,0.45],\"title\":{\"text\":\"max_depth\"}},\"yaxis\":{\"anchor\":\"x\",\"domain\":[0.0,1.0],\"title\":{\"text\":\"Objective Value\"}},\"xaxis2\":{\"anchor\":\"y2\",\"domain\":[0.55,1.0],\"title\":{\"text\":\"n_estimators\"}},\"yaxis2\":{\"anchor\":\"x2\",\"domain\":[0.0,1.0],\"matches\":\"y\",\"showticklabels\":false},\"title\":{\"text\":\"Slice Plot\"}},                        {\"responsive\": true}                    ).then(function(){\n",
              "                            \n",
              "var gd = document.getElementById('27eed19b-7f75-4486-a266-c4b190d701f2');\n",
              "var x = new MutationObserver(function (mutations, observer) {{\n",
              "        var display = window.getComputedStyle(gd).display;\n",
              "        if (!display || display === 'none') {{\n",
              "            console.log([gd, 'removed!']);\n",
              "            Plotly.purge(gd);\n",
              "            observer.disconnect();\n",
              "        }}\n",
              "}});\n",
              "\n",
              "// Listen for the removal of the full notebook cells\n",
              "var notebookContainer = gd.closest('#notebook-container');\n",
              "if (notebookContainer) {{\n",
              "    x.observe(notebookContainer, {childList: true});\n",
              "}}\n",
              "\n",
              "// Listen for the clearing of the current output cell\n",
              "var outputEl = gd.closest('.output');\n",
              "if (outputEl) {{\n",
              "    x.observe(outputEl, {childList: true});\n",
              "}}\n",
              "\n",
              "                        })                };                            </script>        </div>\n",
              "</body>\n",
              "</html>"
            ]
          },
          "metadata": {},
          "output_type": "display_data"
        }
      ],
      "source": [
        "# 3. Slice Plot\n",
        "plot_slice(study).show()"
      ]
    },
    {
      "cell_type": "code",
      "execution_count": null,
      "metadata": {
        "colab": {
          "base_uri": "https://localhost:8080/",
          "height": 542
        },
        "id": "JX7tUyOQyKem",
        "outputId": "f8d18de3-a830-420e-cfef-12a203123732"
      },
      "outputs": [
        {
          "data": {
            "text/html": [
              "<html>\n",
              "<head><meta charset=\"utf-8\" /></head>\n",
              "<body>\n",
              "    <div>            <script src=\"https://cdnjs.cloudflare.com/ajax/libs/mathjax/2.7.5/MathJax.js?config=TeX-AMS-MML_SVG\"></script><script type=\"text/javascript\">if (window.MathJax && window.MathJax.Hub && window.MathJax.Hub.Config) {window.MathJax.Hub.Config({SVG: {font: \"STIX-Web\"}});}</script>                <script type=\"text/javascript\">window.PlotlyConfig = {MathJaxConfig: 'local'};</script>\n",
              "        <script charset=\"utf-8\" src=\"https://cdn.plot.ly/plotly-2.35.2.min.js\"></script>                <div id=\"51fcd9a3-dc73-470b-bb85-6586f7bb1fab\" class=\"plotly-graph-div\" style=\"height:525px; width:100%;\"></div>            <script type=\"text/javascript\">                                    window.PLOTLYENV=window.PLOTLYENV || {};                                    if (document.getElementById(\"51fcd9a3-dc73-470b-bb85-6586f7bb1fab\")) {                    Plotly.newPlot(                        \"51fcd9a3-dc73-470b-bb85-6586f7bb1fab\",                        [{\"colorbar\":{\"title\":{\"text\":\"Objective Value\"}},\"colorscale\":[[0.0,\"rgb(247,251,255)\"],[0.125,\"rgb(222,235,247)\"],[0.25,\"rgb(198,219,239)\"],[0.375,\"rgb(158,202,225)\"],[0.5,\"rgb(107,174,214)\"],[0.625,\"rgb(66,146,198)\"],[0.75,\"rgb(33,113,181)\"],[0.875,\"rgb(8,81,156)\"],[1.0,\"rgb(8,48,107)\"]],\"connectgaps\":true,\"contours\":{\"coloring\":\"heatmap\"},\"hoverinfo\":\"none\",\"line\":{\"smoothing\":1.3},\"reversescale\":false,\"x\":[4.25,5,10,15,20,20.75],\"y\":[42.5,50,100,150,200,207.5],\"z\":[[null,null,null,null,null,null],[null,0.7746741154562384,0.7579143389199254,0.7728119180633147,0.7709497206703911,null],[null,0.7690875232774674,0.7616387337057727,0.7653631284916201,0.7690875232774674,null],[null,0.7653631284916201,0.7672253258845437,0.7728119180633147,0.7728119180633147,null],[null,0.7690875232774674,0.7709497206703911,0.7728119180633147,0.7728119180633147,null],[null,null,null,null,null,null]],\"type\":\"contour\"},{\"marker\":{\"color\":\"black\",\"line\":{\"color\":\"Gray\",\"width\":2.0}},\"mode\":\"markers\",\"name\":\"Feasible Trial\",\"showlegend\":false,\"x\":[5,10,15,15,20,10,5,20,15,10,20,15,5,5,10,20],\"y\":[100,150,50,100,100,50,150,150,150,200,200,200,200,50,100,50],\"type\":\"scatter\"},{\"marker\":{\"color\":\"#cccccc\",\"line\":{\"color\":\"Gray\",\"width\":2.0}},\"mode\":\"markers\",\"name\":\"Infeasible Trial\",\"showlegend\":false,\"x\":[],\"y\":[],\"type\":\"scatter\"}],                        {\"title\":{\"text\":\"Contour Plot\"},\"template\":{\"data\":{\"histogram2dcontour\":[{\"type\":\"histogram2dcontour\",\"colorbar\":{\"outlinewidth\":0,\"ticks\":\"\"},\"colorscale\":[[0.0,\"#0d0887\"],[0.1111111111111111,\"#46039f\"],[0.2222222222222222,\"#7201a8\"],[0.3333333333333333,\"#9c179e\"],[0.4444444444444444,\"#bd3786\"],[0.5555555555555556,\"#d8576b\"],[0.6666666666666666,\"#ed7953\"],[0.7777777777777778,\"#fb9f3a\"],[0.8888888888888888,\"#fdca26\"],[1.0,\"#f0f921\"]]}],\"choropleth\":[{\"type\":\"choropleth\",\"colorbar\":{\"outlinewidth\":0,\"ticks\":\"\"}}],\"histogram2d\":[{\"type\":\"histogram2d\",\"colorbar\":{\"outlinewidth\":0,\"ticks\":\"\"},\"colorscale\":[[0.0,\"#0d0887\"],[0.1111111111111111,\"#46039f\"],[0.2222222222222222,\"#7201a8\"],[0.3333333333333333,\"#9c179e\"],[0.4444444444444444,\"#bd3786\"],[0.5555555555555556,\"#d8576b\"],[0.6666666666666666,\"#ed7953\"],[0.7777777777777778,\"#fb9f3a\"],[0.8888888888888888,\"#fdca26\"],[1.0,\"#f0f921\"]]}],\"heatmap\":[{\"type\":\"heatmap\",\"colorbar\":{\"outlinewidth\":0,\"ticks\":\"\"},\"colorscale\":[[0.0,\"#0d0887\"],[0.1111111111111111,\"#46039f\"],[0.2222222222222222,\"#7201a8\"],[0.3333333333333333,\"#9c179e\"],[0.4444444444444444,\"#bd3786\"],[0.5555555555555556,\"#d8576b\"],[0.6666666666666666,\"#ed7953\"],[0.7777777777777778,\"#fb9f3a\"],[0.8888888888888888,\"#fdca26\"],[1.0,\"#f0f921\"]]}],\"heatmapgl\":[{\"type\":\"heatmapgl\",\"colorbar\":{\"outlinewidth\":0,\"ticks\":\"\"},\"colorscale\":[[0.0,\"#0d0887\"],[0.1111111111111111,\"#46039f\"],[0.2222222222222222,\"#7201a8\"],[0.3333333333333333,\"#9c179e\"],[0.4444444444444444,\"#bd3786\"],[0.5555555555555556,\"#d8576b\"],[0.6666666666666666,\"#ed7953\"],[0.7777777777777778,\"#fb9f3a\"],[0.8888888888888888,\"#fdca26\"],[1.0,\"#f0f921\"]]}],\"contourcarpet\":[{\"type\":\"contourcarpet\",\"colorbar\":{\"outlinewidth\":0,\"ticks\":\"\"}}],\"contour\":[{\"type\":\"contour\",\"colorbar\":{\"outlinewidth\":0,\"ticks\":\"\"},\"colorscale\":[[0.0,\"#0d0887\"],[0.1111111111111111,\"#46039f\"],[0.2222222222222222,\"#7201a8\"],[0.3333333333333333,\"#9c179e\"],[0.4444444444444444,\"#bd3786\"],[0.5555555555555556,\"#d8576b\"],[0.6666666666666666,\"#ed7953\"],[0.7777777777777778,\"#fb9f3a\"],[0.8888888888888888,\"#fdca26\"],[1.0,\"#f0f921\"]]}],\"surface\":[{\"type\":\"surface\",\"colorbar\":{\"outlinewidth\":0,\"ticks\":\"\"},\"colorscale\":[[0.0,\"#0d0887\"],[0.1111111111111111,\"#46039f\"],[0.2222222222222222,\"#7201a8\"],[0.3333333333333333,\"#9c179e\"],[0.4444444444444444,\"#bd3786\"],[0.5555555555555556,\"#d8576b\"],[0.6666666666666666,\"#ed7953\"],[0.7777777777777778,\"#fb9f3a\"],[0.8888888888888888,\"#fdca26\"],[1.0,\"#f0f921\"]]}],\"mesh3d\":[{\"type\":\"mesh3d\",\"colorbar\":{\"outlinewidth\":0,\"ticks\":\"\"}}],\"scatter\":[{\"fillpattern\":{\"fillmode\":\"overlay\",\"size\":10,\"solidity\":0.2},\"type\":\"scatter\"}],\"parcoords\":[{\"type\":\"parcoords\",\"line\":{\"colorbar\":{\"outlinewidth\":0,\"ticks\":\"\"}}}],\"scatterpolargl\":[{\"type\":\"scatterpolargl\",\"marker\":{\"colorbar\":{\"outlinewidth\":0,\"ticks\":\"\"}}}],\"bar\":[{\"error_x\":{\"color\":\"#2a3f5f\"},\"error_y\":{\"color\":\"#2a3f5f\"},\"marker\":{\"line\":{\"color\":\"#E5ECF6\",\"width\":0.5},\"pattern\":{\"fillmode\":\"overlay\",\"size\":10,\"solidity\":0.2}},\"type\":\"bar\"}],\"scattergeo\":[{\"type\":\"scattergeo\",\"marker\":{\"colorbar\":{\"outlinewidth\":0,\"ticks\":\"\"}}}],\"scatterpolar\":[{\"type\":\"scatterpolar\",\"marker\":{\"colorbar\":{\"outlinewidth\":0,\"ticks\":\"\"}}}],\"histogram\":[{\"marker\":{\"pattern\":{\"fillmode\":\"overlay\",\"size\":10,\"solidity\":0.2}},\"type\":\"histogram\"}],\"scattergl\":[{\"type\":\"scattergl\",\"marker\":{\"colorbar\":{\"outlinewidth\":0,\"ticks\":\"\"}}}],\"scatter3d\":[{\"type\":\"scatter3d\",\"line\":{\"colorbar\":{\"outlinewidth\":0,\"ticks\":\"\"}},\"marker\":{\"colorbar\":{\"outlinewidth\":0,\"ticks\":\"\"}}}],\"scattermapbox\":[{\"type\":\"scattermapbox\",\"marker\":{\"colorbar\":{\"outlinewidth\":0,\"ticks\":\"\"}}}],\"scatterternary\":[{\"type\":\"scatterternary\",\"marker\":{\"colorbar\":{\"outlinewidth\":0,\"ticks\":\"\"}}}],\"scattercarpet\":[{\"type\":\"scattercarpet\",\"marker\":{\"colorbar\":{\"outlinewidth\":0,\"ticks\":\"\"}}}],\"carpet\":[{\"aaxis\":{\"endlinecolor\":\"#2a3f5f\",\"gridcolor\":\"white\",\"linecolor\":\"white\",\"minorgridcolor\":\"white\",\"startlinecolor\":\"#2a3f5f\"},\"baxis\":{\"endlinecolor\":\"#2a3f5f\",\"gridcolor\":\"white\",\"linecolor\":\"white\",\"minorgridcolor\":\"white\",\"startlinecolor\":\"#2a3f5f\"},\"type\":\"carpet\"}],\"table\":[{\"cells\":{\"fill\":{\"color\":\"#EBF0F8\"},\"line\":{\"color\":\"white\"}},\"header\":{\"fill\":{\"color\":\"#C8D4E3\"},\"line\":{\"color\":\"white\"}},\"type\":\"table\"}],\"barpolar\":[{\"marker\":{\"line\":{\"color\":\"#E5ECF6\",\"width\":0.5},\"pattern\":{\"fillmode\":\"overlay\",\"size\":10,\"solidity\":0.2}},\"type\":\"barpolar\"}],\"pie\":[{\"automargin\":true,\"type\":\"pie\"}]},\"layout\":{\"autotypenumbers\":\"strict\",\"colorway\":[\"#636efa\",\"#EF553B\",\"#00cc96\",\"#ab63fa\",\"#FFA15A\",\"#19d3f3\",\"#FF6692\",\"#B6E880\",\"#FF97FF\",\"#FECB52\"],\"font\":{\"color\":\"#2a3f5f\"},\"hovermode\":\"closest\",\"hoverlabel\":{\"align\":\"left\"},\"paper_bgcolor\":\"white\",\"plot_bgcolor\":\"#E5ECF6\",\"polar\":{\"bgcolor\":\"#E5ECF6\",\"angularaxis\":{\"gridcolor\":\"white\",\"linecolor\":\"white\",\"ticks\":\"\"},\"radialaxis\":{\"gridcolor\":\"white\",\"linecolor\":\"white\",\"ticks\":\"\"}},\"ternary\":{\"bgcolor\":\"#E5ECF6\",\"aaxis\":{\"gridcolor\":\"white\",\"linecolor\":\"white\",\"ticks\":\"\"},\"baxis\":{\"gridcolor\":\"white\",\"linecolor\":\"white\",\"ticks\":\"\"},\"caxis\":{\"gridcolor\":\"white\",\"linecolor\":\"white\",\"ticks\":\"\"}},\"coloraxis\":{\"colorbar\":{\"outlinewidth\":0,\"ticks\":\"\"}},\"colorscale\":{\"sequential\":[[0.0,\"#0d0887\"],[0.1111111111111111,\"#46039f\"],[0.2222222222222222,\"#7201a8\"],[0.3333333333333333,\"#9c179e\"],[0.4444444444444444,\"#bd3786\"],[0.5555555555555556,\"#d8576b\"],[0.6666666666666666,\"#ed7953\"],[0.7777777777777778,\"#fb9f3a\"],[0.8888888888888888,\"#fdca26\"],[1.0,\"#f0f921\"]],\"sequentialminus\":[[0.0,\"#0d0887\"],[0.1111111111111111,\"#46039f\"],[0.2222222222222222,\"#7201a8\"],[0.3333333333333333,\"#9c179e\"],[0.4444444444444444,\"#bd3786\"],[0.5555555555555556,\"#d8576b\"],[0.6666666666666666,\"#ed7953\"],[0.7777777777777778,\"#fb9f3a\"],[0.8888888888888888,\"#fdca26\"],[1.0,\"#f0f921\"]],\"diverging\":[[0,\"#8e0152\"],[0.1,\"#c51b7d\"],[0.2,\"#de77ae\"],[0.3,\"#f1b6da\"],[0.4,\"#fde0ef\"],[0.5,\"#f7f7f7\"],[0.6,\"#e6f5d0\"],[0.7,\"#b8e186\"],[0.8,\"#7fbc41\"],[0.9,\"#4d9221\"],[1,\"#276419\"]]},\"xaxis\":{\"gridcolor\":\"white\",\"linecolor\":\"white\",\"ticks\":\"\",\"title\":{\"standoff\":15},\"zerolinecolor\":\"white\",\"automargin\":true,\"zerolinewidth\":2},\"yaxis\":{\"gridcolor\":\"white\",\"linecolor\":\"white\",\"ticks\":\"\",\"title\":{\"standoff\":15},\"zerolinecolor\":\"white\",\"automargin\":true,\"zerolinewidth\":2},\"scene\":{\"xaxis\":{\"backgroundcolor\":\"#E5ECF6\",\"gridcolor\":\"white\",\"linecolor\":\"white\",\"showbackground\":true,\"ticks\":\"\",\"zerolinecolor\":\"white\",\"gridwidth\":2},\"yaxis\":{\"backgroundcolor\":\"#E5ECF6\",\"gridcolor\":\"white\",\"linecolor\":\"white\",\"showbackground\":true,\"ticks\":\"\",\"zerolinecolor\":\"white\",\"gridwidth\":2},\"zaxis\":{\"backgroundcolor\":\"#E5ECF6\",\"gridcolor\":\"white\",\"linecolor\":\"white\",\"showbackground\":true,\"ticks\":\"\",\"zerolinecolor\":\"white\",\"gridwidth\":2}},\"shapedefaults\":{\"line\":{\"color\":\"#2a3f5f\"}},\"annotationdefaults\":{\"arrowcolor\":\"#2a3f5f\",\"arrowhead\":0,\"arrowwidth\":1},\"geo\":{\"bgcolor\":\"white\",\"landcolor\":\"#E5ECF6\",\"subunitcolor\":\"white\",\"showland\":true,\"showlakes\":true,\"lakecolor\":\"white\"},\"title\":{\"x\":0.05},\"mapbox\":{\"style\":\"light\"}}},\"xaxis\":{\"title\":{\"text\":\"max_depth\"},\"range\":[4.25,20.75]},\"yaxis\":{\"title\":{\"text\":\"n_estimators\"},\"range\":[42.5,207.5]}},                        {\"responsive\": true}                    ).then(function(){\n",
              "                            \n",
              "var gd = document.getElementById('51fcd9a3-dc73-470b-bb85-6586f7bb1fab');\n",
              "var x = new MutationObserver(function (mutations, observer) {{\n",
              "        var display = window.getComputedStyle(gd).display;\n",
              "        if (!display || display === 'none') {{\n",
              "            console.log([gd, 'removed!']);\n",
              "            Plotly.purge(gd);\n",
              "            observer.disconnect();\n",
              "        }}\n",
              "}});\n",
              "\n",
              "// Listen for the removal of the full notebook cells\n",
              "var notebookContainer = gd.closest('#notebook-container');\n",
              "if (notebookContainer) {{\n",
              "    x.observe(notebookContainer, {childList: true});\n",
              "}}\n",
              "\n",
              "// Listen for the clearing of the current output cell\n",
              "var outputEl = gd.closest('.output');\n",
              "if (outputEl) {{\n",
              "    x.observe(outputEl, {childList: true});\n",
              "}}\n",
              "\n",
              "                        })                };                            </script>        </div>\n",
              "</body>\n",
              "</html>"
            ]
          },
          "metadata": {},
          "output_type": "display_data"
        }
      ],
      "source": [
        "# 4. Contour Plot\n",
        "plot_contour(study).show()"
      ]
    },
    {
      "cell_type": "code",
      "execution_count": null,
      "metadata": {
        "colab": {
          "base_uri": "https://localhost:8080/",
          "height": 542
        },
        "id": "YKVmB-MSyW6T",
        "outputId": "8e0c0574-23fe-4bed-88e8-9051ec02c4cc"
      },
      "outputs": [
        {
          "data": {
            "text/html": [
              "<html>\n",
              "<head><meta charset=\"utf-8\" /></head>\n",
              "<body>\n",
              "    <div>            <script src=\"https://cdnjs.cloudflare.com/ajax/libs/mathjax/2.7.5/MathJax.js?config=TeX-AMS-MML_SVG\"></script><script type=\"text/javascript\">if (window.MathJax && window.MathJax.Hub && window.MathJax.Hub.Config) {window.MathJax.Hub.Config({SVG: {font: \"STIX-Web\"}});}</script>                <script type=\"text/javascript\">window.PlotlyConfig = {MathJaxConfig: 'local'};</script>\n",
              "        <script charset=\"utf-8\" src=\"https://cdn.plot.ly/plotly-2.35.2.min.js\"></script>                <div id=\"11dc3f80-39d0-4f17-8bc7-7bb13a381df4\" class=\"plotly-graph-div\" style=\"height:525px; width:100%;\"></div>            <script type=\"text/javascript\">                                    window.PLOTLYENV=window.PLOTLYENV || {};                                    if (document.getElementById(\"11dc3f80-39d0-4f17-8bc7-7bb13a381df4\")) {                    Plotly.newPlot(                        \"11dc3f80-39d0-4f17-8bc7-7bb13a381df4\",                        [{\"cliponaxis\":false,\"hovertemplate\":[\"n_estimators (IntDistribution): 0.4514222172418954\\u003cextra\\u003e\\u003c\\u002fextra\\u003e\",\"max_depth (IntDistribution): 0.5485777827581045\\u003cextra\\u003e\\u003c\\u002fextra\\u003e\"],\"name\":\"Objective Value\",\"orientation\":\"h\",\"text\":[\"0.45\",\"0.55\"],\"textposition\":\"outside\",\"x\":[0.4514222172418954,0.5485777827581045],\"y\":[\"n_estimators\",\"max_depth\"],\"type\":\"bar\"}],                        {\"title\":{\"text\":\"Hyperparameter Importances\"},\"xaxis\":{\"title\":{\"text\":\"Hyperparameter Importance\"}},\"yaxis\":{\"title\":{\"text\":\"Hyperparameter\"}},\"template\":{\"data\":{\"histogram2dcontour\":[{\"type\":\"histogram2dcontour\",\"colorbar\":{\"outlinewidth\":0,\"ticks\":\"\"},\"colorscale\":[[0.0,\"#0d0887\"],[0.1111111111111111,\"#46039f\"],[0.2222222222222222,\"#7201a8\"],[0.3333333333333333,\"#9c179e\"],[0.4444444444444444,\"#bd3786\"],[0.5555555555555556,\"#d8576b\"],[0.6666666666666666,\"#ed7953\"],[0.7777777777777778,\"#fb9f3a\"],[0.8888888888888888,\"#fdca26\"],[1.0,\"#f0f921\"]]}],\"choropleth\":[{\"type\":\"choropleth\",\"colorbar\":{\"outlinewidth\":0,\"ticks\":\"\"}}],\"histogram2d\":[{\"type\":\"histogram2d\",\"colorbar\":{\"outlinewidth\":0,\"ticks\":\"\"},\"colorscale\":[[0.0,\"#0d0887\"],[0.1111111111111111,\"#46039f\"],[0.2222222222222222,\"#7201a8\"],[0.3333333333333333,\"#9c179e\"],[0.4444444444444444,\"#bd3786\"],[0.5555555555555556,\"#d8576b\"],[0.6666666666666666,\"#ed7953\"],[0.7777777777777778,\"#fb9f3a\"],[0.8888888888888888,\"#fdca26\"],[1.0,\"#f0f921\"]]}],\"heatmap\":[{\"type\":\"heatmap\",\"colorbar\":{\"outlinewidth\":0,\"ticks\":\"\"},\"colorscale\":[[0.0,\"#0d0887\"],[0.1111111111111111,\"#46039f\"],[0.2222222222222222,\"#7201a8\"],[0.3333333333333333,\"#9c179e\"],[0.4444444444444444,\"#bd3786\"],[0.5555555555555556,\"#d8576b\"],[0.6666666666666666,\"#ed7953\"],[0.7777777777777778,\"#fb9f3a\"],[0.8888888888888888,\"#fdca26\"],[1.0,\"#f0f921\"]]}],\"heatmapgl\":[{\"type\":\"heatmapgl\",\"colorbar\":{\"outlinewidth\":0,\"ticks\":\"\"},\"colorscale\":[[0.0,\"#0d0887\"],[0.1111111111111111,\"#46039f\"],[0.2222222222222222,\"#7201a8\"],[0.3333333333333333,\"#9c179e\"],[0.4444444444444444,\"#bd3786\"],[0.5555555555555556,\"#d8576b\"],[0.6666666666666666,\"#ed7953\"],[0.7777777777777778,\"#fb9f3a\"],[0.8888888888888888,\"#fdca26\"],[1.0,\"#f0f921\"]]}],\"contourcarpet\":[{\"type\":\"contourcarpet\",\"colorbar\":{\"outlinewidth\":0,\"ticks\":\"\"}}],\"contour\":[{\"type\":\"contour\",\"colorbar\":{\"outlinewidth\":0,\"ticks\":\"\"},\"colorscale\":[[0.0,\"#0d0887\"],[0.1111111111111111,\"#46039f\"],[0.2222222222222222,\"#7201a8\"],[0.3333333333333333,\"#9c179e\"],[0.4444444444444444,\"#bd3786\"],[0.5555555555555556,\"#d8576b\"],[0.6666666666666666,\"#ed7953\"],[0.7777777777777778,\"#fb9f3a\"],[0.8888888888888888,\"#fdca26\"],[1.0,\"#f0f921\"]]}],\"surface\":[{\"type\":\"surface\",\"colorbar\":{\"outlinewidth\":0,\"ticks\":\"\"},\"colorscale\":[[0.0,\"#0d0887\"],[0.1111111111111111,\"#46039f\"],[0.2222222222222222,\"#7201a8\"],[0.3333333333333333,\"#9c179e\"],[0.4444444444444444,\"#bd3786\"],[0.5555555555555556,\"#d8576b\"],[0.6666666666666666,\"#ed7953\"],[0.7777777777777778,\"#fb9f3a\"],[0.8888888888888888,\"#fdca26\"],[1.0,\"#f0f921\"]]}],\"mesh3d\":[{\"type\":\"mesh3d\",\"colorbar\":{\"outlinewidth\":0,\"ticks\":\"\"}}],\"scatter\":[{\"fillpattern\":{\"fillmode\":\"overlay\",\"size\":10,\"solidity\":0.2},\"type\":\"scatter\"}],\"parcoords\":[{\"type\":\"parcoords\",\"line\":{\"colorbar\":{\"outlinewidth\":0,\"ticks\":\"\"}}}],\"scatterpolargl\":[{\"type\":\"scatterpolargl\",\"marker\":{\"colorbar\":{\"outlinewidth\":0,\"ticks\":\"\"}}}],\"bar\":[{\"error_x\":{\"color\":\"#2a3f5f\"},\"error_y\":{\"color\":\"#2a3f5f\"},\"marker\":{\"line\":{\"color\":\"#E5ECF6\",\"width\":0.5},\"pattern\":{\"fillmode\":\"overlay\",\"size\":10,\"solidity\":0.2}},\"type\":\"bar\"}],\"scattergeo\":[{\"type\":\"scattergeo\",\"marker\":{\"colorbar\":{\"outlinewidth\":0,\"ticks\":\"\"}}}],\"scatterpolar\":[{\"type\":\"scatterpolar\",\"marker\":{\"colorbar\":{\"outlinewidth\":0,\"ticks\":\"\"}}}],\"histogram\":[{\"marker\":{\"pattern\":{\"fillmode\":\"overlay\",\"size\":10,\"solidity\":0.2}},\"type\":\"histogram\"}],\"scattergl\":[{\"type\":\"scattergl\",\"marker\":{\"colorbar\":{\"outlinewidth\":0,\"ticks\":\"\"}}}],\"scatter3d\":[{\"type\":\"scatter3d\",\"line\":{\"colorbar\":{\"outlinewidth\":0,\"ticks\":\"\"}},\"marker\":{\"colorbar\":{\"outlinewidth\":0,\"ticks\":\"\"}}}],\"scattermapbox\":[{\"type\":\"scattermapbox\",\"marker\":{\"colorbar\":{\"outlinewidth\":0,\"ticks\":\"\"}}}],\"scatterternary\":[{\"type\":\"scatterternary\",\"marker\":{\"colorbar\":{\"outlinewidth\":0,\"ticks\":\"\"}}}],\"scattercarpet\":[{\"type\":\"scattercarpet\",\"marker\":{\"colorbar\":{\"outlinewidth\":0,\"ticks\":\"\"}}}],\"carpet\":[{\"aaxis\":{\"endlinecolor\":\"#2a3f5f\",\"gridcolor\":\"white\",\"linecolor\":\"white\",\"minorgridcolor\":\"white\",\"startlinecolor\":\"#2a3f5f\"},\"baxis\":{\"endlinecolor\":\"#2a3f5f\",\"gridcolor\":\"white\",\"linecolor\":\"white\",\"minorgridcolor\":\"white\",\"startlinecolor\":\"#2a3f5f\"},\"type\":\"carpet\"}],\"table\":[{\"cells\":{\"fill\":{\"color\":\"#EBF0F8\"},\"line\":{\"color\":\"white\"}},\"header\":{\"fill\":{\"color\":\"#C8D4E3\"},\"line\":{\"color\":\"white\"}},\"type\":\"table\"}],\"barpolar\":[{\"marker\":{\"line\":{\"color\":\"#E5ECF6\",\"width\":0.5},\"pattern\":{\"fillmode\":\"overlay\",\"size\":10,\"solidity\":0.2}},\"type\":\"barpolar\"}],\"pie\":[{\"automargin\":true,\"type\":\"pie\"}]},\"layout\":{\"autotypenumbers\":\"strict\",\"colorway\":[\"#636efa\",\"#EF553B\",\"#00cc96\",\"#ab63fa\",\"#FFA15A\",\"#19d3f3\",\"#FF6692\",\"#B6E880\",\"#FF97FF\",\"#FECB52\"],\"font\":{\"color\":\"#2a3f5f\"},\"hovermode\":\"closest\",\"hoverlabel\":{\"align\":\"left\"},\"paper_bgcolor\":\"white\",\"plot_bgcolor\":\"#E5ECF6\",\"polar\":{\"bgcolor\":\"#E5ECF6\",\"angularaxis\":{\"gridcolor\":\"white\",\"linecolor\":\"white\",\"ticks\":\"\"},\"radialaxis\":{\"gridcolor\":\"white\",\"linecolor\":\"white\",\"ticks\":\"\"}},\"ternary\":{\"bgcolor\":\"#E5ECF6\",\"aaxis\":{\"gridcolor\":\"white\",\"linecolor\":\"white\",\"ticks\":\"\"},\"baxis\":{\"gridcolor\":\"white\",\"linecolor\":\"white\",\"ticks\":\"\"},\"caxis\":{\"gridcolor\":\"white\",\"linecolor\":\"white\",\"ticks\":\"\"}},\"coloraxis\":{\"colorbar\":{\"outlinewidth\":0,\"ticks\":\"\"}},\"colorscale\":{\"sequential\":[[0.0,\"#0d0887\"],[0.1111111111111111,\"#46039f\"],[0.2222222222222222,\"#7201a8\"],[0.3333333333333333,\"#9c179e\"],[0.4444444444444444,\"#bd3786\"],[0.5555555555555556,\"#d8576b\"],[0.6666666666666666,\"#ed7953\"],[0.7777777777777778,\"#fb9f3a\"],[0.8888888888888888,\"#fdca26\"],[1.0,\"#f0f921\"]],\"sequentialminus\":[[0.0,\"#0d0887\"],[0.1111111111111111,\"#46039f\"],[0.2222222222222222,\"#7201a8\"],[0.3333333333333333,\"#9c179e\"],[0.4444444444444444,\"#bd3786\"],[0.5555555555555556,\"#d8576b\"],[0.6666666666666666,\"#ed7953\"],[0.7777777777777778,\"#fb9f3a\"],[0.8888888888888888,\"#fdca26\"],[1.0,\"#f0f921\"]],\"diverging\":[[0,\"#8e0152\"],[0.1,\"#c51b7d\"],[0.2,\"#de77ae\"],[0.3,\"#f1b6da\"],[0.4,\"#fde0ef\"],[0.5,\"#f7f7f7\"],[0.6,\"#e6f5d0\"],[0.7,\"#b8e186\"],[0.8,\"#7fbc41\"],[0.9,\"#4d9221\"],[1,\"#276419\"]]},\"xaxis\":{\"gridcolor\":\"white\",\"linecolor\":\"white\",\"ticks\":\"\",\"title\":{\"standoff\":15},\"zerolinecolor\":\"white\",\"automargin\":true,\"zerolinewidth\":2},\"yaxis\":{\"gridcolor\":\"white\",\"linecolor\":\"white\",\"ticks\":\"\",\"title\":{\"standoff\":15},\"zerolinecolor\":\"white\",\"automargin\":true,\"zerolinewidth\":2},\"scene\":{\"xaxis\":{\"backgroundcolor\":\"#E5ECF6\",\"gridcolor\":\"white\",\"linecolor\":\"white\",\"showbackground\":true,\"ticks\":\"\",\"zerolinecolor\":\"white\",\"gridwidth\":2},\"yaxis\":{\"backgroundcolor\":\"#E5ECF6\",\"gridcolor\":\"white\",\"linecolor\":\"white\",\"showbackground\":true,\"ticks\":\"\",\"zerolinecolor\":\"white\",\"gridwidth\":2},\"zaxis\":{\"backgroundcolor\":\"#E5ECF6\",\"gridcolor\":\"white\",\"linecolor\":\"white\",\"showbackground\":true,\"ticks\":\"\",\"zerolinecolor\":\"white\",\"gridwidth\":2}},\"shapedefaults\":{\"line\":{\"color\":\"#2a3f5f\"}},\"annotationdefaults\":{\"arrowcolor\":\"#2a3f5f\",\"arrowhead\":0,\"arrowwidth\":1},\"geo\":{\"bgcolor\":\"white\",\"landcolor\":\"#E5ECF6\",\"subunitcolor\":\"white\",\"showland\":true,\"showlakes\":true,\"lakecolor\":\"white\"},\"title\":{\"x\":0.05},\"mapbox\":{\"style\":\"light\"}}}},                        {\"responsive\": true}                    ).then(function(){\n",
              "                            \n",
              "var gd = document.getElementById('11dc3f80-39d0-4f17-8bc7-7bb13a381df4');\n",
              "var x = new MutationObserver(function (mutations, observer) {{\n",
              "        var display = window.getComputedStyle(gd).display;\n",
              "        if (!display || display === 'none') {{\n",
              "            console.log([gd, 'removed!']);\n",
              "            Plotly.purge(gd);\n",
              "            observer.disconnect();\n",
              "        }}\n",
              "}});\n",
              "\n",
              "// Listen for the removal of the full notebook cells\n",
              "var notebookContainer = gd.closest('#notebook-container');\n",
              "if (notebookContainer) {{\n",
              "    x.observe(notebookContainer, {childList: true});\n",
              "}}\n",
              "\n",
              "// Listen for the clearing of the current output cell\n",
              "var outputEl = gd.closest('.output');\n",
              "if (outputEl) {{\n",
              "    x.observe(outputEl, {childList: true});\n",
              "}}\n",
              "\n",
              "                        })                };                            </script>        </div>\n",
              "</body>\n",
              "</html>"
            ]
          },
          "metadata": {},
          "output_type": "display_data"
        }
      ],
      "source": [
        "# 5. Hyperparameter Importance\n",
        "plot_param_importances(study).show()"
      ]
    },
    {
      "cell_type": "code",
      "execution_count": null,
      "metadata": {
        "id": "gtP0WlZPyfUN"
      },
      "outputs": [],
      "source": []
    },
    {
      "cell_type": "markdown",
      "metadata": {
        "id": "TbEI_8tDyjV5"
      },
      "source": [
        "## Optimizing Multiple ML Models"
      ]
    },
    {
      "cell_type": "code",
      "execution_count": null,
      "metadata": {
        "id": "95jvpZ1Byj89"
      },
      "outputs": [],
      "source": [
        "# Importing the required libraries\n",
        "from sklearn.ensemble import RandomForestClassifier, GradientBoostingClassifier\n",
        "from sklearn.svm import SVC"
      ]
    },
    {
      "cell_type": "code",
      "execution_count": null,
      "metadata": {
        "id": "m2Mv9KEZym18"
      },
      "outputs": [],
      "source": [
        "# Define the objective function for Optuna\n",
        "def objective(trial):\n",
        "    # Choose the algorithm to tune\n",
        "    classifier_name = trial.suggest_categorical('classifier', ['SVM', 'RandomForest', 'GradientBoosting'])\n",
        "\n",
        "    if classifier_name == 'SVM':\n",
        "        # SVM hyperparameters\n",
        "        c = trial.suggest_float('C', 0.1, 100, log=True)\n",
        "        kernel = trial.suggest_categorical('kernel', ['linear', 'rbf', 'poly', 'sigmoid'])\n",
        "        gamma = trial.suggest_categorical('gamma', ['scale', 'auto'])\n",
        "\n",
        "        model = SVC(C=c, kernel=kernel, gamma=gamma, random_state=42)\n",
        "\n",
        "    elif classifier_name == 'RandomForest':\n",
        "        # Random Forest hyperparameters\n",
        "        n_estimators = trial.suggest_int('n_estimators', 50, 300)\n",
        "        max_depth = trial.suggest_int('max_depth', 3, 20)\n",
        "        min_samples_split = trial.suggest_int('min_samples_split', 2, 10)\n",
        "        min_samples_leaf = trial.suggest_int('min_samples_leaf', 1, 10)\n",
        "        bootstrap = trial.suggest_categorical('bootstrap', [True, False])\n",
        "\n",
        "        model = RandomForestClassifier(\n",
        "            n_estimators=n_estimators,\n",
        "            max_depth=max_depth,\n",
        "            min_samples_split=min_samples_split,\n",
        "            min_samples_leaf=min_samples_leaf,\n",
        "            bootstrap=bootstrap,\n",
        "            random_state=42\n",
        "        )\n",
        "\n",
        "    elif classifier_name == 'GradientBoosting':\n",
        "        # Gradient Boosting hyperparameters\n",
        "        n_estimators = trial.suggest_int('n_estimators', 50, 300)\n",
        "        learning_rate = trial.suggest_float('learning_rate', 0.01, 0.3, log=True)\n",
        "        max_depth = trial.suggest_int('max_depth', 3, 20)\n",
        "        min_samples_split = trial.suggest_int('min_samples_split', 2, 10)\n",
        "        min_samples_leaf = trial.suggest_int('min_samples_leaf', 1, 10)\n",
        "\n",
        "        model = GradientBoostingClassifier(\n",
        "            n_estimators=n_estimators,\n",
        "            learning_rate=learning_rate,\n",
        "            max_depth=max_depth,\n",
        "            min_samples_split=min_samples_split,\n",
        "            min_samples_leaf=min_samples_leaf,\n",
        "            random_state=42\n",
        "        )\n",
        "\n",
        "    # Perform cross-validation and return the mean accuracy\n",
        "    score = cross_val_score(model, X_train, y_train, cv=3, scoring='accuracy').mean()\n",
        "    return score"
      ]
    },
    {
      "cell_type": "code",
      "execution_count": null,
      "metadata": {
        "colab": {
          "background_save": true
        },
        "id": "R87Oxs45zQSL",
        "outputId": "62e18425-9bc9-4a78-84aa-957de6a2732c"
      },
      "outputs": [
        {
          "name": "stderr",
          "output_type": "stream",
          "text": [
            "[I 2025-07-17 19:12:25,591] A new study created in memory with name: no-name-426b368d-a051-41df-9482-91d77cade2c2\n",
            "[I 2025-07-17 19:12:29,461] Trial 0 finished with value: 0.7467411545623835 and parameters: {'classifier': 'GradientBoosting', 'n_estimators': 290, 'learning_rate': 0.2927093611389286, 'max_depth': 6, 'min_samples_split': 5, 'min_samples_leaf': 2}. Best is trial 0 with value: 0.7467411545623835.\n",
            "[I 2025-07-17 19:12:29,776] Trial 1 finished with value: 0.7467411545623838 and parameters: {'classifier': 'RandomForest', 'n_estimators': 73, 'max_depth': 3, 'min_samples_split': 2, 'min_samples_leaf': 8, 'bootstrap': False}. Best is trial 1 with value: 0.7467411545623838.\n",
            "[I 2025-07-17 19:12:31,916] Trial 2 finished with value: 0.7672253258845437 and parameters: {'classifier': 'GradientBoosting', 'n_estimators': 281, 'learning_rate': 0.02510839937691003, 'max_depth': 5, 'min_samples_split': 5, 'min_samples_leaf': 9}. Best is trial 2 with value: 0.7672253258845437.\n",
            "[I 2025-07-17 19:12:32,691] Trial 3 finished with value: 0.7746741154562384 and parameters: {'classifier': 'RandomForest', 'n_estimators': 121, 'max_depth': 4, 'min_samples_split': 10, 'min_samples_leaf': 4, 'bootstrap': False}. Best is trial 3 with value: 0.7746741154562384.\n",
            "[I 2025-07-17 19:12:32,848] Trial 4 finished with value: 0.690875232774674 and parameters: {'classifier': 'SVM', 'C': 54.39695849873734, 'kernel': 'poly', 'gamma': 'auto'}. Best is trial 3 with value: 0.7746741154562384.\n",
            "[I 2025-07-17 19:12:32,922] Trial 5 finished with value: 0.7150837988826816 and parameters: {'classifier': 'SVM', 'C': 50.14783310904068, 'kernel': 'rbf', 'gamma': 'auto'}. Best is trial 3 with value: 0.7746741154562384.\n",
            "[I 2025-07-17 19:12:38,679] Trial 6 finished with value: 0.74487895716946 and parameters: {'classifier': 'GradientBoosting', 'n_estimators': 189, 'learning_rate': 0.07330240346116154, 'max_depth': 15, 'min_samples_split': 2, 'min_samples_leaf': 2}. Best is trial 3 with value: 0.7746741154562384.\n",
            "[I 2025-07-17 19:12:39,594] Trial 7 finished with value: 0.7765363128491619 and parameters: {'classifier': 'RandomForest', 'n_estimators': 190, 'max_depth': 10, 'min_samples_split': 8, 'min_samples_leaf': 3, 'bootstrap': False}. Best is trial 7 with value: 0.7765363128491619.\n",
            "[I 2025-07-17 19:12:39,624] Trial 8 finished with value: 0.7821229050279329 and parameters: {'classifier': 'SVM', 'C': 0.37769369390177776, 'kernel': 'linear', 'gamma': 'auto'}. Best is trial 8 with value: 0.7821229050279329.\n",
            "[I 2025-07-17 19:12:40,764] Trial 9 finished with value: 0.7690875232774674 and parameters: {'classifier': 'GradientBoosting', 'n_estimators': 98, 'learning_rate': 0.01718139998875631, 'max_depth': 8, 'min_samples_split': 3, 'min_samples_leaf': 6}. Best is trial 8 with value: 0.7821229050279329.\n",
            "[I 2025-07-17 19:12:40,798] Trial 10 finished with value: 0.7877094972067038 and parameters: {'classifier': 'SVM', 'C': 0.10725619682283881, 'kernel': 'linear', 'gamma': 'scale'}. Best is trial 10 with value: 0.7877094972067038.\n",
            "[I 2025-07-17 19:12:40,831] Trial 11 finished with value: 0.7877094972067038 and parameters: {'classifier': 'SVM', 'C': 0.11035720660696781, 'kernel': 'linear', 'gamma': 'scale'}. Best is trial 10 with value: 0.7877094972067038.\n",
            "[I 2025-07-17 19:12:40,864] Trial 12 finished with value: 0.7877094972067038 and parameters: {'classifier': 'SVM', 'C': 0.10508209256141923, 'kernel': 'linear', 'gamma': 'scale'}. Best is trial 10 with value: 0.7877094972067038.\n",
            "[I 2025-07-17 19:12:40,900] Trial 13 finished with value: 0.7858472998137803 and parameters: {'classifier': 'SVM', 'C': 0.7397805589636882, 'kernel': 'linear', 'gamma': 'scale'}. Best is trial 10 with value: 0.7877094972067038.\n",
            "[I 2025-07-17 19:12:40,944] Trial 14 finished with value: 0.7709497206703911 and parameters: {'classifier': 'SVM', 'C': 0.1021125623509096, 'kernel': 'sigmoid', 'gamma': 'scale'}. Best is trial 10 with value: 0.7877094972067038.\n",
            "[I 2025-07-17 19:12:41,005] Trial 15 finished with value: 0.7858472998137801 and parameters: {'classifier': 'SVM', 'C': 3.944216148500538, 'kernel': 'linear', 'gamma': 'scale'}. Best is trial 10 with value: 0.7877094972067038.\n",
            "[I 2025-07-17 19:12:41,042] Trial 16 finished with value: 0.7858472998137803 and parameters: {'classifier': 'SVM', 'C': 0.816510739390588, 'kernel': 'linear', 'gamma': 'scale'}. Best is trial 10 with value: 0.7877094972067038.\n",
            "[I 2025-07-17 19:12:41,087] Trial 17 finished with value: 0.7523277467411545 and parameters: {'classifier': 'SVM', 'C': 7.474336887540448, 'kernel': 'rbf', 'gamma': 'scale'}. Best is trial 10 with value: 0.7877094972067038.\n",
            "[I 2025-07-17 19:12:41,121] Trial 18 finished with value: 0.7281191806331471 and parameters: {'classifier': 'SVM', 'C': 0.31217053270193135, 'kernel': 'poly', 'gamma': 'scale'}. Best is trial 10 with value: 0.7877094972067038.\n",
            "[I 2025-07-17 19:12:42,376] Trial 19 finished with value: 0.7560521415270017 and parameters: {'classifier': 'RandomForest', 'n_estimators': 237, 'max_depth': 20, 'min_samples_split': 8, 'min_samples_leaf': 10, 'bootstrap': True}. Best is trial 10 with value: 0.7877094972067038.\n",
            "[I 2025-07-17 19:12:42,421] Trial 20 finished with value: 0.7616387337057727 and parameters: {'classifier': 'SVM', 'C': 0.2337186470514965, 'kernel': 'sigmoid', 'gamma': 'scale'}. Best is trial 10 with value: 0.7877094972067038.\n",
            "[I 2025-07-17 19:12:42,454] Trial 21 finished with value: 0.7895716945996275 and parameters: {'classifier': 'SVM', 'C': 0.11509832574245409, 'kernel': 'linear', 'gamma': 'scale'}. Best is trial 21 with value: 0.7895716945996275.\n",
            "[I 2025-07-17 19:12:42,487] Trial 22 finished with value: 0.7895716945996275 and parameters: {'classifier': 'SVM', 'C': 0.11844420511700662, 'kernel': 'linear', 'gamma': 'scale'}. Best is trial 21 with value: 0.7895716945996275.\n",
            "[I 2025-07-17 19:12:42,525] Trial 23 finished with value: 0.7839851024208566 and parameters: {'classifier': 'SVM', 'C': 1.1369465918104582, 'kernel': 'linear', 'gamma': 'scale'}. Best is trial 21 with value: 0.7895716945996275.\n",
            "[I 2025-07-17 19:12:42,559] Trial 24 finished with value: 0.7858472998137803 and parameters: {'classifier': 'SVM', 'C': 0.2422721596774172, 'kernel': 'linear', 'gamma': 'scale'}. Best is trial 21 with value: 0.7895716945996275.\n",
            "[I 2025-07-17 19:12:42,601] Trial 25 finished with value: 0.7858472998137801 and parameters: {'classifier': 'SVM', 'C': 1.8257119112230262, 'kernel': 'linear', 'gamma': 'scale'}. Best is trial 21 with value: 0.7895716945996275.\n",
            "[I 2025-07-17 19:12:42,635] Trial 26 finished with value: 0.7858472998137803 and parameters: {'classifier': 'SVM', 'C': 0.19529378923716192, 'kernel': 'linear', 'gamma': 'auto'}. Best is trial 21 with value: 0.7895716945996275.\n",
            "[I 2025-07-17 19:12:42,675] Trial 27 finished with value: 0.7653631284916201 and parameters: {'classifier': 'SVM', 'C': 0.4732417414314175, 'kernel': 'rbf', 'gamma': 'scale'}. Best is trial 21 with value: 0.7895716945996275.\n",
            "[I 2025-07-17 19:12:43,510] Trial 28 finished with value: 0.7541899441340782 and parameters: {'classifier': 'RandomForest', 'n_estimators': 148, 'max_depth': 15, 'min_samples_split': 10, 'min_samples_leaf': 6, 'bootstrap': True}. Best is trial 21 with value: 0.7895716945996275.\n",
            "[I 2025-07-17 19:12:45,106] Trial 29 finished with value: 0.7430167597765364 and parameters: {'classifier': 'GradientBoosting', 'n_estimators': 53, 'learning_rate': 0.29233914803212113, 'max_depth': 20, 'min_samples_split': 7, 'min_samples_leaf': 1}. Best is trial 21 with value: 0.7895716945996275.\n",
            "[I 2025-07-17 19:12:48,748] Trial 30 finished with value: 0.7430167597765364 and parameters: {'classifier': 'GradientBoosting', 'n_estimators': 240, 'learning_rate': 0.07896409291848712, 'max_depth': 13, 'min_samples_split': 4, 'min_samples_leaf': 7}. Best is trial 21 with value: 0.7895716945996275.\n",
            "[I 2025-07-17 19:12:48,779] Trial 31 finished with value: 0.7877094972067038 and parameters: {'classifier': 'SVM', 'C': 0.10371366236220754, 'kernel': 'linear', 'gamma': 'scale'}. Best is trial 21 with value: 0.7895716945996275.\n",
            "[I 2025-07-17 19:12:48,811] Trial 32 finished with value: 0.7877094972067038 and parameters: {'classifier': 'SVM', 'C': 0.16720064676368807, 'kernel': 'linear', 'gamma': 'scale'}. Best is trial 21 with value: 0.7895716945996275.\n",
            "[I 2025-07-17 19:12:48,842] Trial 33 finished with value: 0.7895716945996275 and parameters: {'classifier': 'SVM', 'C': 0.15119388699952063, 'kernel': 'linear', 'gamma': 'scale'}. Best is trial 21 with value: 0.7895716945996275.\n",
            "[I 2025-07-17 19:12:48,876] Trial 34 finished with value: 0.7839851024208566 and parameters: {'classifier': 'SVM', 'C': 0.44527575855400103, 'kernel': 'linear', 'gamma': 'scale'}. Best is trial 21 with value: 0.7895716945996275.\n",
            "[I 2025-07-17 19:12:50,176] Trial 35 finished with value: 0.7616387337057727 and parameters: {'classifier': 'RandomForest', 'n_estimators': 230, 'max_depth': 16, 'min_samples_split': 6, 'min_samples_leaf': 4, 'bootstrap': True}. Best is trial 21 with value: 0.7895716945996275.\n",
            "[I 2025-07-17 19:12:50,222] Trial 36 finished with value: 0.7728119180633147 and parameters: {'classifier': 'SVM', 'C': 0.18323524039451106, 'kernel': 'sigmoid', 'gamma': 'scale'}. Best is trial 21 with value: 0.7895716945996275.\n",
            "[I 2025-07-17 19:12:50,270] Trial 37 finished with value: 0.7094972067039106 and parameters: {'classifier': 'SVM', 'C': 10.289708547926802, 'kernel': 'poly', 'gamma': 'scale'}. Best is trial 21 with value: 0.7895716945996275.\n",
            "[I 2025-07-17 19:12:51,832] Trial 38 finished with value: 0.7765363128491621 and parameters: {'classifier': 'GradientBoosting', 'n_estimators': 161, 'learning_rate': 0.010652049830337637, 'max_depth': 9, 'min_samples_split': 9, 'min_samples_leaf': 10}. Best is trial 21 with value: 0.7895716945996275.\n",
            "[I 2025-07-17 19:12:52,416] Trial 39 finished with value: 0.7728119180633147 and parameters: {'classifier': 'RandomForest', 'n_estimators': 121, 'max_depth': 12, 'min_samples_split': 6, 'min_samples_leaf': 5, 'bootstrap': False}. Best is trial 21 with value: 0.7895716945996275.\n",
            "[I 2025-07-17 19:12:52,455] Trial 40 finished with value: 0.7877094972067038 and parameters: {'classifier': 'SVM', 'C': 0.1711122956812343, 'kernel': 'linear', 'gamma': 'scale'}. Best is trial 21 with value: 0.7895716945996275.\n",
            "[I 2025-07-17 19:12:52,496] Trial 41 finished with value: 0.7877094972067038 and parameters: {'classifier': 'SVM', 'C': 0.10168454324711095, 'kernel': 'linear', 'gamma': 'scale'}. Best is trial 21 with value: 0.7895716945996275.\n",
            "[I 2025-07-17 19:12:52,528] Trial 42 finished with value: 0.7895716945996275 and parameters: {'classifier': 'SVM', 'C': 0.14990764557222994, 'kernel': 'linear', 'gamma': 'scale'}. Best is trial 21 with value: 0.7895716945996275.\n",
            "[I 2025-07-17 19:12:52,561] Trial 43 finished with value: 0.7877094972067038 and parameters: {'classifier': 'SVM', 'C': 0.17055519648091588, 'kernel': 'linear', 'gamma': 'scale'}. Best is trial 21 with value: 0.7895716945996275.\n",
            "[I 2025-07-17 19:12:52,594] Trial 44 finished with value: 0.7858472998137803 and parameters: {'classifier': 'SVM', 'C': 0.30767018976024285, 'kernel': 'linear', 'gamma': 'scale'}. Best is trial 21 with value: 0.7895716945996275.\n",
            "[I 2025-07-17 19:12:52,762] Trial 45 finished with value: 0.6741154562383613 and parameters: {'classifier': 'SVM', 'C': 97.98386335025799, 'kernel': 'poly', 'gamma': 'auto'}. Best is trial 21 with value: 0.7895716945996275.\n",
            "[I 2025-07-17 19:12:52,797] Trial 46 finished with value: 0.7839851024208566 and parameters: {'classifier': 'SVM', 'C': 0.541072443898427, 'kernel': 'linear', 'gamma': 'scale'}. Best is trial 21 with value: 0.7895716945996275.\n",
            "[I 2025-07-17 19:12:56,029] Trial 47 finished with value: 0.7486033519553073 and parameters: {'classifier': 'GradientBoosting', 'n_estimators': 263, 'learning_rate': 0.03927837758053626, 'max_depth': 17, 'min_samples_split': 4, 'min_samples_leaf': 8}. Best is trial 21 with value: 0.7895716945996275.\n",
            "[I 2025-07-17 19:12:56,060] Trial 48 finished with value: 0.7877094972067038 and parameters: {'classifier': 'SVM', 'C': 0.16676439910202698, 'kernel': 'linear', 'gamma': 'auto'}. Best is trial 21 with value: 0.7895716945996275.\n",
            "[I 2025-07-17 19:12:56,098] Trial 49 finished with value: 0.7635009310986964 and parameters: {'classifier': 'SVM', 'C': 0.28906318872028436, 'kernel': 'rbf', 'gamma': 'auto'}. Best is trial 21 with value: 0.7895716945996275.\n",
            "[I 2025-07-17 19:12:56,227] Trial 50 finished with value: 0.7858472998137801 and parameters: {'classifier': 'SVM', 'C': 27.657944533864573, 'kernel': 'linear', 'gamma': 'scale'}. Best is trial 21 with value: 0.7895716945996275.\n",
            "[I 2025-07-17 19:12:56,261] Trial 51 finished with value: 0.7895716945996275 and parameters: {'classifier': 'SVM', 'C': 0.12525481245779702, 'kernel': 'linear', 'gamma': 'scale'}. Best is trial 21 with value: 0.7895716945996275.\n",
            "[I 2025-07-17 19:12:56,295] Trial 52 finished with value: 0.7895716945996275 and parameters: {'classifier': 'SVM', 'C': 0.131017023390906, 'kernel': 'linear', 'gamma': 'scale'}. Best is trial 21 with value: 0.7895716945996275.\n",
            "[I 2025-07-17 19:12:56,332] Trial 53 finished with value: 0.7858472998137803 and parameters: {'classifier': 'SVM', 'C': 0.2089639427810275, 'kernel': 'linear', 'gamma': 'scale'}. Best is trial 21 with value: 0.7895716945996275.\n",
            "[I 2025-07-17 19:12:56,363] Trial 54 finished with value: 0.7895716945996275 and parameters: {'classifier': 'SVM', 'C': 0.13807713087584142, 'kernel': 'linear', 'gamma': 'scale'}. Best is trial 21 with value: 0.7895716945996275.\n",
            "[I 2025-07-17 19:12:56,396] Trial 55 finished with value: 0.7895716945996275 and parameters: {'classifier': 'SVM', 'C': 0.13657544822903592, 'kernel': 'linear', 'gamma': 'scale'}. Best is trial 21 with value: 0.7895716945996275.\n",
            "[I 2025-07-17 19:12:57,852] Trial 56 finished with value: 0.7690875232774674 and parameters: {'classifier': 'RandomForest', 'n_estimators': 205, 'max_depth': 7, 'min_samples_split': 8, 'min_samples_leaf': 1, 'bootstrap': True}. Best is trial 21 with value: 0.7895716945996275.\n",
            "[I 2025-07-17 19:12:57,903] Trial 57 finished with value: 0.7858472998137803 and parameters: {'classifier': 'SVM', 'C': 0.33087035354360644, 'kernel': 'linear', 'gamma': 'scale'}. Best is trial 21 with value: 0.7895716945996275.\n",
            "[I 2025-07-17 19:12:57,973] Trial 58 finished with value: 0.7746741154562384 and parameters: {'classifier': 'SVM', 'C': 0.12972728790011362, 'kernel': 'sigmoid', 'gamma': 'scale'}. Best is trial 21 with value: 0.7895716945996275.\n",
            "[I 2025-07-17 19:12:58,029] Trial 59 finished with value: 0.7858472998137803 and parameters: {'classifier': 'SVM', 'C': 0.6933391405466037, 'kernel': 'linear', 'gamma': 'scale'}. Best is trial 21 with value: 0.7895716945996275.\n",
            "[I 2025-07-17 19:12:58,080] Trial 60 finished with value: 0.7895716945996275 and parameters: {'classifier': 'SVM', 'C': 0.13615492471453336, 'kernel': 'linear', 'gamma': 'auto'}. Best is trial 21 with value: 0.7895716945996275.\n",
            "[I 2025-07-17 19:12:58,128] Trial 61 finished with value: 0.7895716945996275 and parameters: {'classifier': 'SVM', 'C': 0.1431784744843724, 'kernel': 'linear', 'gamma': 'scale'}. Best is trial 21 with value: 0.7895716945996275.\n",
            "[I 2025-07-17 19:12:58,178] Trial 62 finished with value: 0.7858472998137803 and parameters: {'classifier': 'SVM', 'C': 0.23317318714859883, 'kernel': 'linear', 'gamma': 'scale'}. Best is trial 21 with value: 0.7895716945996275.\n",
            "[I 2025-07-17 19:12:58,223] Trial 63 finished with value: 0.7877094972067038 and parameters: {'classifier': 'SVM', 'C': 0.10247927352487116, 'kernel': 'linear', 'gamma': 'scale'}. Best is trial 21 with value: 0.7895716945996275.\n",
            "[I 2025-07-17 19:12:58,275] Trial 64 finished with value: 0.7225325884543761 and parameters: {'classifier': 'SVM', 'C': 0.25562268935760857, 'kernel': 'poly', 'gamma': 'scale'}. Best is trial 21 with value: 0.7895716945996275.\n",
            "[I 2025-07-17 19:13:00,813] Trial 65 finished with value: 0.7262569832402234 and parameters: {'classifier': 'GradientBoosting', 'n_estimators': 131, 'learning_rate': 0.1482693099902441, 'max_depth': 18, 'min_samples_split': 7, 'min_samples_leaf': 5}. Best is trial 21 with value: 0.7895716945996275.\n",
            "[I 2025-07-17 19:13:00,870] Trial 66 finished with value: 0.7486033519553073 and parameters: {'classifier': 'SVM', 'C': 0.12968749248469466, 'kernel': 'rbf', 'gamma': 'scale'}. Best is trial 21 with value: 0.7895716945996275.\n",
            "[I 2025-07-17 19:13:00,904] Trial 67 finished with value: 0.7839851024208566 and parameters: {'classifier': 'SVM', 'C': 0.4180576857054357, 'kernel': 'linear', 'gamma': 'scale'}. Best is trial 21 with value: 0.7895716945996275.\n",
            "[I 2025-07-17 19:13:00,936] Trial 68 finished with value: 0.7858472998137803 and parameters: {'classifier': 'SVM', 'C': 0.21851055334694722, 'kernel': 'linear', 'gamma': 'scale'}. Best is trial 21 with value: 0.7895716945996275.\n",
            "[I 2025-07-17 19:13:01,882] Trial 69 finished with value: 0.7709497206703911 and parameters: {'classifier': 'RandomForest', 'n_estimators': 210, 'max_depth': 11, 'min_samples_split': 3, 'min_samples_leaf': 7, 'bootstrap': False}. Best is trial 21 with value: 0.7895716945996275.\n",
            "[I 2025-07-17 19:13:01,923] Trial 70 finished with value: 0.7895716945996275 and parameters: {'classifier': 'SVM', 'C': 0.12712745206573509, 'kernel': 'linear', 'gamma': 'scale'}. Best is trial 21 with value: 0.7895716945996275.\n",
            "[I 2025-07-17 19:13:01,954] Trial 71 finished with value: 0.7895716945996275 and parameters: {'classifier': 'SVM', 'C': 0.1344592876773119, 'kernel': 'linear', 'gamma': 'scale'}. Best is trial 21 with value: 0.7895716945996275.\n",
            "[I 2025-07-17 19:13:01,988] Trial 72 finished with value: 0.7895716945996275 and parameters: {'classifier': 'SVM', 'C': 0.15029625739084015, 'kernel': 'linear', 'gamma': 'scale'}. Best is trial 21 with value: 0.7895716945996275.\n",
            "[I 2025-07-17 19:13:02,019] Trial 73 finished with value: 0.7877094972067038 and parameters: {'classifier': 'SVM', 'C': 0.10274065868123196, 'kernel': 'linear', 'gamma': 'scale'}. Best is trial 21 with value: 0.7895716945996275.\n",
            "[I 2025-07-17 19:13:02,051] Trial 74 finished with value: 0.7858472998137803 and parameters: {'classifier': 'SVM', 'C': 0.20545584324887312, 'kernel': 'linear', 'gamma': 'scale'}. Best is trial 21 with value: 0.7895716945996275.\n",
            "[I 2025-07-17 19:13:02,090] Trial 75 finished with value: 0.7169459962756052 and parameters: {'classifier': 'SVM', 'C': 2.3207134770476627, 'kernel': 'sigmoid', 'gamma': 'scale'}. Best is trial 21 with value: 0.7895716945996275.\n",
            "[I 2025-07-17 19:13:02,124] Trial 76 finished with value: 0.7839851024208566 and parameters: {'classifier': 'SVM', 'C': 0.36108676063946044, 'kernel': 'linear', 'gamma': 'scale'}. Best is trial 21 with value: 0.7895716945996275.\n",
            "[I 2025-07-17 19:13:02,157] Trial 77 finished with value: 0.7858472998137803 and parameters: {'classifier': 'SVM', 'C': 0.26558553276553426, 'kernel': 'linear', 'gamma': 'scale'}. Best is trial 21 with value: 0.7895716945996275.\n",
            "[I 2025-07-17 19:13:03,665] Trial 78 finished with value: 0.7225325884543761 and parameters: {'classifier': 'GradientBoosting', 'n_estimators': 88, 'learning_rate': 0.11089813062371413, 'max_depth': 13, 'min_samples_split': 9, 'min_samples_leaf': 3}. Best is trial 21 with value: 0.7895716945996275.\n",
            "[I 2025-07-17 19:13:03,699] Trial 79 finished with value: 0.7877094972067038 and parameters: {'classifier': 'SVM', 'C': 0.1770354919857618, 'kernel': 'linear', 'gamma': 'scale'}. Best is trial 21 with value: 0.7895716945996275.\n",
            "[I 2025-07-17 19:13:03,740] Trial 80 finished with value: 0.7486033519553073 and parameters: {'classifier': 'SVM', 'C': 0.1376067467472543, 'kernel': 'rbf', 'gamma': 'scale'}. Best is trial 21 with value: 0.7895716945996275.\n",
            "[I 2025-07-17 19:13:03,772] Trial 81 finished with value: 0.7895716945996275 and parameters: {'classifier': 'SVM', 'C': 0.12338922320481877, 'kernel': 'linear', 'gamma': 'auto'}. Best is trial 21 with value: 0.7895716945996275.\n",
            "[I 2025-07-17 19:13:03,806] Trial 82 finished with value: 0.7895716945996275 and parameters: {'classifier': 'SVM', 'C': 0.14670715703702578, 'kernel': 'linear', 'gamma': 'auto'}. Best is trial 21 with value: 0.7895716945996275.\n",
            "[I 2025-07-17 19:13:03,841] Trial 83 finished with value: 0.7877094972067038 and parameters: {'classifier': 'SVM', 'C': 0.18131853509663723, 'kernel': 'linear', 'gamma': 'auto'}. Best is trial 21 with value: 0.7895716945996275.\n",
            "[I 2025-07-17 19:13:03,874] Trial 84 finished with value: 0.7895716945996275 and parameters: {'classifier': 'SVM', 'C': 0.11822196619241346, 'kernel': 'linear', 'gamma': 'auto'}. Best is trial 21 with value: 0.7895716945996275.\n",
            "[I 2025-07-17 19:13:03,908] Trial 85 finished with value: 0.7858472998137803 and parameters: {'classifier': 'SVM', 'C': 0.21651393701445798, 'kernel': 'linear', 'gamma': 'auto'}. Best is trial 21 with value: 0.7895716945996275.\n",
            "[I 2025-07-17 19:13:03,947] Trial 86 finished with value: 0.707635009310987 and parameters: {'classifier': 'SVM', 'C': 0.10210797072020236, 'kernel': 'poly', 'gamma': 'scale'}. Best is trial 21 with value: 0.7895716945996275.\n",
            "[I 2025-07-17 19:13:05,474] Trial 87 finished with value: 0.7579143389199254 and parameters: {'classifier': 'RandomForest', 'n_estimators': 299, 'max_depth': 3, 'min_samples_split': 5, 'min_samples_leaf': 8, 'bootstrap': True}. Best is trial 21 with value: 0.7895716945996275.\n",
            "[I 2025-07-17 19:13:05,530] Trial 88 finished with value: 0.7858472998137801 and parameters: {'classifier': 'SVM', 'C': 4.735894159124928, 'kernel': 'linear', 'gamma': 'scale'}. Best is trial 21 with value: 0.7895716945996275.\n",
            "[I 2025-07-17 19:13:05,563] Trial 89 finished with value: 0.7877094972067038 and parameters: {'classifier': 'SVM', 'C': 0.15765544252707878, 'kernel': 'linear', 'gamma': 'auto'}. Best is trial 21 with value: 0.7895716945996275.\n",
            "[I 2025-07-17 19:13:05,596] Trial 90 finished with value: 0.7858472998137803 and parameters: {'classifier': 'SVM', 'C': 0.2664036741778752, 'kernel': 'linear', 'gamma': 'scale'}. Best is trial 21 with value: 0.7895716945996275.\n",
            "[I 2025-07-17 19:13:05,629] Trial 91 finished with value: 0.7895716945996275 and parameters: {'classifier': 'SVM', 'C': 0.15459920504713703, 'kernel': 'linear', 'gamma': 'scale'}. Best is trial 21 with value: 0.7895716945996275.\n",
            "[I 2025-07-17 19:13:05,661] Trial 92 finished with value: 0.7895716945996275 and parameters: {'classifier': 'SVM', 'C': 0.1298757360149904, 'kernel': 'linear', 'gamma': 'scale'}. Best is trial 21 with value: 0.7895716945996275.\n",
            "[I 2025-07-17 19:13:05,693] Trial 93 finished with value: 0.7858472998137803 and parameters: {'classifier': 'SVM', 'C': 0.18888471387478323, 'kernel': 'linear', 'gamma': 'scale'}. Best is trial 21 with value: 0.7895716945996275.\n",
            "[I 2025-07-17 19:13:05,731] Trial 94 finished with value: 0.6890130353817504 and parameters: {'classifier': 'SVM', 'C': 21.5703600283864, 'kernel': 'sigmoid', 'gamma': 'scale'}. Best is trial 21 with value: 0.7895716945996275.\n",
            "[I 2025-07-17 19:13:05,764] Trial 95 finished with value: 0.7895716945996275 and parameters: {'classifier': 'SVM', 'C': 0.15145511269099904, 'kernel': 'linear', 'gamma': 'scale'}. Best is trial 21 with value: 0.7895716945996275.\n",
            "[I 2025-07-17 19:13:06,329] Trial 96 finished with value: 0.7653631284916201 and parameters: {'classifier': 'GradientBoosting', 'n_estimators': 50, 'learning_rate': 0.040333947657870406, 'max_depth': 18, 'min_samples_split': 7, 'min_samples_leaf': 9}. Best is trial 21 with value: 0.7895716945996275.\n",
            "[I 2025-07-17 19:13:06,362] Trial 97 finished with value: 0.7895716945996275 and parameters: {'classifier': 'SVM', 'C': 0.11922060281864721, 'kernel': 'linear', 'gamma': 'scale'}. Best is trial 21 with value: 0.7895716945996275.\n",
            "[I 2025-07-17 19:13:06,395] Trial 98 finished with value: 0.7858472998137803 and parameters: {'classifier': 'SVM', 'C': 0.2080243669136378, 'kernel': 'linear', 'gamma': 'scale'}. Best is trial 21 with value: 0.7895716945996275.\n",
            "[I 2025-07-17 19:13:06,426] Trial 99 finished with value: 0.7877094972067038 and parameters: {'classifier': 'SVM', 'C': 0.1009996683015719, 'kernel': 'linear', 'gamma': 'scale'}. Best is trial 21 with value: 0.7895716945996275.\n"
          ]
        }
      ],
      "source": []
    }
  ],
  "metadata": {
    "colab": {
      "provenance": []
    },
    "kernelspec": {
      "display_name": "Python 3",
      "name": "python3"
    },
    "language_info": {
      "name": "python"
    }
  },
  "nbformat": 4,
  "nbformat_minor": 0
}